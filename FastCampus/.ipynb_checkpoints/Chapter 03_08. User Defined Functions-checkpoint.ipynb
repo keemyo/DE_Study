{
 "cells": [
  {
   "cell_type": "code",
   "execution_count": 12,
   "id": "6e9a003a",
   "metadata": {
    "scrolled": true
   },
   "outputs": [
    {
     "name": "stdout",
     "output_type": "stream",
     "text": [
      "23/06/05 11:36:21 WARN Utils: Service 'SparkUI' could not bind on port 4040. Attempting port 4041.\n"
     ]
    }
   ],
   "source": [
    "# SQL문 안에서 쓸 수 있는 하나의 Function을 정의하는 것을 의미함\n",
    "## 패키지 임포트\n",
    "spark.stop()\n",
    "from pyspark.sql import SparkSession\n",
    "spark = SparkSession.builder \\\n",
    "    .appName('udf') \\\n",
    "    .config(\"spark.ui.reverseProxyUrl\", \"http://localhost:4050\") \\\n",
    "    .getOrCreate()"
   ]
  },
  {
   "cell_type": "markdown",
   "id": "86d4ac84",
   "metadata": {},
   "source": [
    "# 1. 가상의 데이터 만들기"
   ]
  },
  {
   "cell_type": "code",
   "execution_count": 13,
   "id": "34246931",
   "metadata": {},
   "outputs": [],
   "source": [
    "transactions = [\n",
    "    ('찹쌀탕수육+짜장', '2021-11-07 13:20:00', 22000, 'KRW'),\n",
    "    ('찹쌀탕수육+짜장', '2021-11-07 13:20:00', 22000, 'KRW'),\n",
    "    ('월남 쌈 2인 세트', '2021-07-25 11:12:40', 42000, 'KRW'),\n",
    "    ('콩국수_열무비빔국수', '2021-07-10 08:20:00', 21250, 'KRW'),\n",
    "    ('장어소금+고추장구이', '2021-07-01 05:36:00', 68700, 'KRW'),\n",
    "    ('족발', '2020-08-19 19:04:00', 32000, 'KRW'),    \n",
    "]\n",
    "\n",
    "schema = ['name', 'datetime', 'price', 'currency']"
   ]
  },
  {
   "cell_type": "code",
   "execution_count": 14,
   "id": "773d5f0f",
   "metadata": {},
   "outputs": [],
   "source": [
    "df = spark.createDataFrame(data = transactions, schema = schema)"
   ]
  },
  {
   "cell_type": "code",
   "execution_count": 15,
   "id": "6ea47e11",
   "metadata": {},
   "outputs": [],
   "source": [
    "df.createOrReplaceTempView('transactions')"
   ]
  },
  {
   "cell_type": "code",
   "execution_count": 16,
   "id": "7ab8eff0",
   "metadata": {},
   "outputs": [
    {
     "name": "stderr",
     "output_type": "stream",
     "text": [
      "                                                                                \r"
     ]
    },
    {
     "name": "stdout",
     "output_type": "stream",
     "text": [
      "+-------------------+-------------------+-----+--------+\n",
      "|               name|           datetime|price|currency|\n",
      "+-------------------+-------------------+-----+--------+\n",
      "|    찹쌀탕수육+짜장|2021-11-07 13:20:00|22000|     KRW|\n",
      "|    찹쌀탕수육+짜장|2021-11-07 13:20:00|22000|     KRW|\n",
      "|   월남 쌈 2인 세트|2021-07-25 11:12:40|42000|     KRW|\n",
      "|콩국수_열무비빔국수|2021-07-10 08:20:00|21250|     KRW|\n",
      "|장어소금+고추장구이|2021-07-01 05:36:00|68700|     KRW|\n",
      "|               족발|2020-08-19 19:04:00|32000|     KRW|\n",
      "+-------------------+-------------------+-----+--------+\n",
      "\n"
     ]
    }
   ],
   "source": [
    "spark.sql('SELECT * FROM transactions').show()"
   ]
  },
  {
   "cell_type": "markdown",
   "id": "2c117e39",
   "metadata": {},
   "source": [
    "# 2. UDF 만들기"
   ]
  },
  {
   "cell_type": "code",
   "execution_count": 18,
   "id": "999a9b09",
   "metadata": {},
   "outputs": [
    {
     "data": {
      "text/plain": [
       "<function __main__.squared(n)>"
      ]
     },
     "execution_count": 18,
     "metadata": {},
     "output_type": "execute_result"
    }
   ],
   "source": [
    "# UDF\n",
    "def squared(n):\n",
    "    return n * n\n",
    "\n",
    "# register 하는 법\n",
    "spark.udf.register(\"squared\", squared)"
   ]
  },
  {
   "cell_type": "code",
   "execution_count": 19,
   "id": "de391d48",
   "metadata": {},
   "outputs": [
    {
     "name": "stdout",
     "output_type": "stream",
     "text": [
      "root\n",
      " |-- price: long (nullable = true)\n",
      " |-- squared(price): string (nullable = true)\n",
      "\n"
     ]
    }
   ],
   "source": [
    "spark.sql(\"SELECT price, squared(price) FROM transactions\").printSchema()"
   ]
  },
  {
   "cell_type": "markdown",
   "id": "d8229b53",
   "metadata": {},
   "source": [
    "INT를 받아서 STRING을 리턴하네? \n",
    "- 별도로 지정하지 않으면 default로 string을 리턴함"
   ]
  },
  {
   "cell_type": "markdown",
   "id": "cac783b4",
   "metadata": {},
   "source": [
    "## 1) 데이터 타입 바꿔주기"
   ]
  },
  {
   "cell_type": "code",
   "execution_count": 22,
   "id": "3bd2cce7",
   "metadata": {},
   "outputs": [
    {
     "name": "stdout",
     "output_type": "stream",
     "text": [
      "23/06/05 11:53:55 WARN SimpleFunctionRegistry: The function squared replaced a previously registered function.\n"
     ]
    },
    {
     "data": {
      "text/plain": [
       "<function __main__.squared(n)>"
      ]
     },
     "execution_count": 22,
     "metadata": {},
     "output_type": "execute_result"
    }
   ],
   "source": [
    "# 데이터 타입을 지정해준다\n",
    "from pyspark.sql.types import LongType\n",
    "\n",
    "def squared(n):\n",
    "    return n * n\n",
    "\n",
    "# register 하는 법\n",
    "spark.udf.register(\"squared\", squared, LongType())"
   ]
  },
  {
   "cell_type": "code",
   "execution_count": 23,
   "id": "e524ac99",
   "metadata": {},
   "outputs": [
    {
     "name": "stdout",
     "output_type": "stream",
     "text": [
      "root\n",
      " |-- price: long (nullable = true)\n",
      " |-- squared(price): long (nullable = true)\n",
      "\n"
     ]
    }
   ],
   "source": [
    "spark.sql(\"SELECT price, squared(price) FROM transactions\").printSchema()"
   ]
  },
  {
   "cell_type": "markdown",
   "id": "725a0c25",
   "metadata": {},
   "source": [
    "##### (1) 파이썬으로 바꿔주기"
   ]
  },
  {
   "cell_type": "code",
   "execution_count": 24,
   "id": "2312de30",
   "metadata": {},
   "outputs": [],
   "source": [
    "from pyspark.sql.functions import udf\n",
    "from pyspark.sql.types import LongType\n",
    "\n",
    "@udf('long')\n",
    "def squared(n):\n",
    "    return n * n\n"
   ]
  },
  {
   "cell_type": "code",
   "execution_count": 25,
   "id": "daf05e34",
   "metadata": {},
   "outputs": [
    {
     "name": "stdout",
     "output_type": "stream",
     "text": [
      "root\n",
      " |-- price: long (nullable = true)\n",
      " |-- squared(price): long (nullable = true)\n",
      "\n"
     ]
    }
   ],
   "source": [
    "spark.sql(\"SELECT price, squared(price) FROM transactions\").printSchema()"
   ]
  },
  {
   "cell_type": "markdown",
   "id": "ff2af193",
   "metadata": {},
   "source": [
    "### 2) 가격을 한국어로 읽어주는 함수를 만들어보자"
   ]
  },
  {
   "cell_type": "code",
   "execution_count": 29,
   "id": "85c78f26",
   "metadata": {},
   "outputs": [
    {
     "name": "stdout",
     "output_type": "stream",
     "text": [
      "이만일천이백오십\n",
      "육만팔천칠백\n"
     ]
    }
   ],
   "source": [
    "def read_number(n):\n",
    "    unit = (\"\", \"십\", \"백\", \"천\", \"만\")\n",
    "    nums = '일이삼사오육칠팔구'\n",
    "    result = []\n",
    "    i = 0 \n",
    "    while n > 0:\n",
    "        n, r = divmod(n,10)\n",
    "        if r > 0:\n",
    "            result.append(nums[r-1]+unit[i])\n",
    "        i += 1\n",
    "    return \"\".join(reversed(result))\n",
    "            \n",
    "\n",
    "print(read_number(21250))\n",
    "print(read_number(68700))"
   ]
  },
  {
   "cell_type": "code",
   "execution_count": 30,
   "id": "c2feb1cb",
   "metadata": {},
   "outputs": [
    {
     "data": {
      "text/plain": [
       "<function __main__.read_number(n)>"
      ]
     },
     "execution_count": 30,
     "metadata": {},
     "output_type": "execute_result"
    }
   ],
   "source": [
    "# register해보자\n",
    "spark.udf.register('read_number', read_number)"
   ]
  },
  {
   "cell_type": "code",
   "execution_count": 31,
   "id": "0c9fda7b",
   "metadata": {},
   "outputs": [
    {
     "name": "stderr",
     "output_type": "stream",
     "text": [
      "\r",
      "[Stage 3:>                                                          (0 + 1) / 1]\r",
      "\r",
      "                                                                                \r"
     ]
    },
    {
     "name": "stdout",
     "output_type": "stream",
     "text": [
      "+-----+------------------+\n",
      "|price|read_number(price)|\n",
      "+-----+------------------+\n",
      "|22000|          이만이천|\n",
      "|22000|          이만이천|\n",
      "|42000|          사만이천|\n",
      "|21250|  이만일천이백오십|\n",
      "|68700|      육만팔천칠백|\n",
      "|32000|          삼만이천|\n",
      "+-----+------------------+\n",
      "\n"
     ]
    }
   ],
   "source": [
    "spark.sql(\"SELECT price, read_number(price) FROM transactions\").show()"
   ]
  },
  {
   "cell_type": "markdown",
   "id": "5f59ffe5",
   "metadata": {},
   "source": [
    "### 3) 날짜를 보고 요일을 찾아보자"
   ]
  },
  {
   "cell_type": "code",
   "execution_count": 34,
   "id": "9e692a5d",
   "metadata": {},
   "outputs": [
    {
     "name": "stdout",
     "output_type": "stream",
     "text": [
      "23/06/05 15:31:00 WARN SimpleFunctionRegistry: The function get_weekday replaced a previously registered function.\n"
     ]
    },
    {
     "data": {
      "text/plain": [
       "<function __main__.get_weekday(date)>"
      ]
     },
     "execution_count": 34,
     "metadata": {},
     "output_type": "execute_result"
    }
   ],
   "source": [
    "def get_weekday(date):\n",
    "    import calendar\n",
    "    return calendar.day_name[date.weekday()]\n",
    "\n",
    "spark.udf.register('get_weekday', get_weekday)"
   ]
  },
  {
   "cell_type": "code",
   "execution_count": 36,
   "id": "53b90977",
   "metadata": {},
   "outputs": [
    {
     "name": "stdout",
     "output_type": "stream",
     "text": [
      "+-------------------+-----------+\n",
      "|           datetime|day_of_week|\n",
      "+-------------------+-----------+\n",
      "|2021-11-07 13:20:00|     Sunday|\n",
      "|2021-11-07 13:20:00|     Sunday|\n",
      "|2021-07-25 11:12:40|     Sunday|\n",
      "|2021-07-10 08:20:00|   Saturday|\n",
      "|2021-07-01 05:36:00|   Thursday|\n",
      "|2020-08-19 19:04:00|  Wednesday|\n",
      "+-------------------+-----------+\n",
      "\n"
     ]
    }
   ],
   "source": [
    "query = \"\"\"\n",
    "SELECT\n",
    "    datetime\n",
    "    , get_weekday(TO_DATE(datetime)) as day_of_week\n",
    "FROM \n",
    "    transactions\n",
    "\"\"\"\n",
    "\n",
    "spark.sql(query).show()\n"
   ]
  },
  {
   "cell_type": "code",
   "execution_count": null,
   "id": "2c96869d",
   "metadata": {},
   "outputs": [],
   "source": []
  }
 ],
 "metadata": {
  "kernelspec": {
   "display_name": "Python 3 (ipykernel)",
   "language": "python",
   "name": "python3"
  },
  "language_info": {
   "codemirror_mode": {
    "name": "ipython",
    "version": 3
   },
   "file_extension": ".py",
   "mimetype": "text/x-python",
   "name": "python",
   "nbconvert_exporter": "python",
   "pygments_lexer": "ipython3",
   "version": "3.10.8"
  }
 },
 "nbformat": 4,
 "nbformat_minor": 5
}
