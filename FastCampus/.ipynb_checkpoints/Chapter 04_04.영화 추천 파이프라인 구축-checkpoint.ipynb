{
 "cells": [
  {
   "cell_type": "markdown",
   "id": "8ca96f86",
   "metadata": {},
   "source": [
    "# Movie-recommendation"
   ]
  },
  {
   "cell_type": "code",
   "execution_count": 1,
   "id": "1de18605",
   "metadata": {
    "scrolled": false
   },
   "outputs": [
    {
     "name": "stdout",
     "output_type": "stream",
     "text": [
      "23/06/11 21:49:33 WARN Utils: Your hostname, Keemyoui-MacBookPro.local resolves to a loopback address: 127.0.0.1; using 192.168.35.79 instead (on interface en0)\n",
      "23/06/11 21:49:33 WARN Utils: Set SPARK_LOCAL_IP if you need to bind to another address\n"
     ]
    },
    {
     "name": "stderr",
     "output_type": "stream",
     "text": [
      "Setting default log level to \"WARN\".\n",
      "To adjust logging level use sc.setLogLevel(newLevel). For SparkR, use setLogLevel(newLevel).\n"
     ]
    },
    {
     "name": "stdout",
     "output_type": "stream",
     "text": [
      "23/06/11 21:49:33 WARN NativeCodeLoader: Unable to load native-hadoop library for your platform... using builtin-java classes where applicable\n",
      "23/06/11 21:49:34 WARN Utils: Service 'SparkUI' could not bind on port 4040. Attempting port 4041.\n"
     ]
    }
   ],
   "source": [
    "from pyspark.sql import SparkSession\n",
    "MAX_MEMORY = '10g'\n",
    "spark = SparkSession.builder.appName('movie-recommendation')\\\n",
    ".config('spark.executor.memory', MAX_MEMORY)\\\n",
    ".config('spark.driver.memory', MAX_MEMORY)\\\n",
    ".getOrCreate()"
   ]
  },
  {
   "cell_type": "code",
   "execution_count": 2,
   "id": "3e98068d",
   "metadata": {},
   "outputs": [
    {
     "name": "stderr",
     "output_type": "stream",
     "text": [
      "                                                                                \r"
     ]
    },
    {
     "name": "stdout",
     "output_type": "stream",
     "text": [
      "+------+-------+------+----------+\n",
      "|userId|movieId|rating| timestamp|\n",
      "+------+-------+------+----------+\n",
      "|     1|    296|   5.0|1147880044|\n",
      "|     1|    306|   3.5|1147868817|\n",
      "|     1|    307|   5.0|1147868828|\n",
      "|     1|    665|   5.0|1147878820|\n",
      "|     1|    899|   3.5|1147868510|\n",
      "|     1|   1088|   4.0|1147868495|\n",
      "|     1|   1175|   3.5|1147868826|\n",
      "|     1|   1217|   3.5|1147878326|\n",
      "|     1|   1237|   5.0|1147868839|\n",
      "|     1|   1250|   4.0|1147868414|\n",
      "|     1|   1260|   3.5|1147877857|\n",
      "|     1|   1653|   4.0|1147868097|\n",
      "|     1|   2011|   2.5|1147868079|\n",
      "|     1|   2012|   2.5|1147868068|\n",
      "|     1|   2068|   2.5|1147869044|\n",
      "|     1|   2161|   3.5|1147868609|\n",
      "|     1|   2351|   4.5|1147877957|\n",
      "|     1|   2573|   4.0|1147878923|\n",
      "|     1|   2632|   5.0|1147878248|\n",
      "|     1|   2692|   5.0|1147869100|\n",
      "+------+-------+------+----------+\n",
      "only showing top 20 rows\n",
      "\n"
     ]
    }
   ],
   "source": [
    "spark = SparkSession.builder.appName('movie-recommendation').getOrCreate()\n",
    "ratings_file = '/Users/keemyohaan/Desktop/001.Python/004. Study/009.FastCampus/003.DE/01-spark/data/ml-25m/ratings.csv'\n",
    "ratings_df = spark.read.csv(f'file:///{ratings_file}', inferSchema=True, header=True)\n",
    "ratings_df.show()"
   ]
  },
  {
   "cell_type": "code",
   "execution_count": 3,
   "id": "76763514",
   "metadata": {},
   "outputs": [
    {
     "name": "stdout",
     "output_type": "stream",
     "text": [
      "root\n",
      " |-- userId: integer (nullable = true)\n",
      " |-- movieId: integer (nullable = true)\n",
      " |-- rating: double (nullable = true)\n",
      "\n"
     ]
    }
   ],
   "source": [
    "ratings_df = ratings_df.select(['userId', 'movieId', 'rating'])\n",
    "ratings_df.printSchema()"
   ]
  },
  {
   "cell_type": "code",
   "execution_count": 4,
   "id": "a544f423",
   "metadata": {},
   "outputs": [
    {
     "name": "stderr",
     "output_type": "stream",
     "text": [
      "[Stage 3:=================>                                       (5 + 11) / 16]\r"
     ]
    },
    {
     "name": "stdout",
     "output_type": "stream",
     "text": [
      "+-------+------------------+\n",
      "|summary|            rating|\n",
      "+-------+------------------+\n",
      "|  count|          25000095|\n",
      "|   mean| 3.533854451353085|\n",
      "| stddev|1.0607439611423475|\n",
      "|    min|               0.5|\n",
      "|    max|               5.0|\n",
      "+-------+------------------+\n",
      "\n"
     ]
    },
    {
     "name": "stderr",
     "output_type": "stream",
     "text": [
      "\r",
      "                                                                                \r"
     ]
    }
   ],
   "source": [
    "ratings_df.select('rating').describe().show()"
   ]
  },
  {
   "cell_type": "code",
   "execution_count": 5,
   "id": "50a6f26b",
   "metadata": {},
   "outputs": [],
   "source": [
    "train_df, test_df = ratings_df.randomSplit([0.8, 0.2])"
   ]
  },
  {
   "cell_type": "code",
   "execution_count": 6,
   "id": "c8a24672",
   "metadata": {},
   "outputs": [
    {
     "name": "stderr",
     "output_type": "stream",
     "text": [
      "                                                                                \r"
     ]
    },
    {
     "name": "stdout",
     "output_type": "stream",
     "text": [
      "23/06/11 21:50:12 WARN InstanceBuilder$NativeBLAS: Failed to load implementation from:dev.ludovic.netlib.blas.JNIBLAS\n",
      "23/06/11 21:50:12 WARN InstanceBuilder$NativeBLAS: Failed to load implementation from:dev.ludovic.netlib.blas.ForeignLinkerBLAS\n",
      "23/06/11 21:50:12 WARN InstanceBuilder$NativeLAPACK: Failed to load implementation from:dev.ludovic.netlib.lapack.JNILAPACK\n"
     ]
    },
    {
     "name": "stderr",
     "output_type": "stream",
     "text": [
      "                                                                                \r"
     ]
    }
   ],
   "source": [
    "# 추천에 쓸 것은 ALS, 메모리 에러가 난다. 이때 사용자가 직접 메모리를 지정해 줄 수 있다.\n",
    "from pyspark.ml.recommendation import ALS\n",
    "als = ALS(\n",
    "    maxIter=5, #최고 반복 횟수\n",
    "    regParam=0.1,\n",
    "    userCol='userId',\n",
    "    itemCol='movieId',\n",
    "    ratingCol='rating',\n",
    "    coldStartStrategy = 'drop' # 학습하지 못한 데이터를 만났을 때 어떻게 할 것인가? 개발자가 설정해주는 것 nan or drop\n",
    "         )\n",
    "\n",
    "model = als.fit(train_df)"
   ]
  },
  {
   "cell_type": "code",
   "execution_count": 7,
   "id": "6077bbd8",
   "metadata": {},
   "outputs": [
    {
     "name": "stderr",
     "output_type": "stream",
     "text": [
      "                                                                                \r"
     ]
    },
    {
     "name": "stdout",
     "output_type": "stream",
     "text": [
      "+------+-------+------+----------+\n",
      "|userId|movieId|rating|prediction|\n",
      "+------+-------+------+----------+\n",
      "|    31|   6620|   1.5| 2.5205398|\n",
      "|    85|   1088|   2.0| 3.7801747|\n",
      "|   137|   1645|   3.0| 3.0494752|\n",
      "|   243|   1580|   3.0| 2.6549966|\n",
      "|   321|   3175|   3.0| 3.2452977|\n",
      "|   368|   1580|   3.5| 3.5956376|\n",
      "|   368|  54190|   4.0| 3.5182621|\n",
      "|   375|   1580|   2.5|  3.447546|\n",
      "|   458|   1580|   3.5|  3.164287|\n",
      "|   472|    471|   5.0| 3.6718054|\n",
      "|   472|   1088|   4.0| 3.4037948|\n",
      "|   597|   1580|   4.0| 3.7289007|\n",
      "|   597|   1591|   2.0| 2.5048122|\n",
      "|   613|   1580|   3.0| 3.3647447|\n",
      "|   737|   3175|   5.0|  4.090239|\n",
      "|   858|   1580|   4.0| 2.9985473|\n",
      "|   876|   1580|   3.5| 3.0288904|\n",
      "|   876|   1645|   4.5| 3.2729747|\n",
      "|   918|    471|   3.5| 3.9436395|\n",
      "|  1088|   1580|   4.0| 3.7829845|\n",
      "+------+-------+------+----------+\n",
      "only showing top 20 rows\n",
      "\n"
     ]
    }
   ],
   "source": [
    "predictions = model.transform(test_df)\n",
    "predictions.show()"
   ]
  },
  {
   "cell_type": "code",
   "execution_count": 9,
   "id": "d482b95b",
   "metadata": {},
   "outputs": [
    {
     "name": "stderr",
     "output_type": "stream",
     "text": [
      "[Stage 180:>                                                      (0 + 16) / 17]\r"
     ]
    },
    {
     "name": "stdout",
     "output_type": "stream",
     "text": [
      "+-------+------------------+------------------+\n",
      "|summary|            rating|        prediction|\n",
      "+-------+------------------+------------------+\n",
      "|  count|           4993976|           4993976|\n",
      "|   mean|3.5339976603812273|  3.42265460687011|\n",
      "| stddev|1.0605241529441467|0.6447545880655112|\n",
      "|    min|               0.5|         -4.054752|\n",
      "|    max|               5.0|          6.497198|\n",
      "+-------+------------------+------------------+\n",
      "\n"
     ]
    },
    {
     "name": "stderr",
     "output_type": "stream",
     "text": [
      "\r",
      "[Stage 180:===================================================>   (16 + 1) / 17]\r",
      "\r",
      "                                                                                \r"
     ]
    }
   ],
   "source": [
    "predictions.select('rating', 'prediction').describe().show()"
   ]
  },
  {
   "cell_type": "code",
   "execution_count": 14,
   "id": "0764606e",
   "metadata": {},
   "outputs": [
    {
     "name": "stderr",
     "output_type": "stream",
     "text": [
      "[Stage 244:==========================>                             (8 + 9) / 17]\r"
     ]
    },
    {
     "name": "stdout",
     "output_type": "stream",
     "text": [
      "0.8099589504242205\n"
     ]
    },
    {
     "name": "stderr",
     "output_type": "stream",
     "text": [
      "\r",
      "[Stage 244:===================================================>   (16 + 1) / 17]\r",
      "\r",
      "                                                                                \r"
     ]
    }
   ],
   "source": [
    "from pyspark.ml.evaluation import RegressionEvaluator\n",
    "evaluator = RegressionEvaluator(metricName='rmse', labelCol='rating', predictionCol='prediction')\n",
    "\n",
    "rmse = evaluator.evaluate(predictions)\n",
    "print(rmse)"
   ]
  },
  {
   "cell_type": "code",
   "execution_count": 15,
   "id": "4f16a981",
   "metadata": {},
   "outputs": [
    {
     "name": "stderr",
     "output_type": "stream",
     "text": [
      "[Stage 259:=====================================================>(99 + 1) / 100]\r"
     ]
    },
    {
     "name": "stdout",
     "output_type": "stream",
     "text": [
      "+------+--------------------+\n",
      "|userId|     recommendations|\n",
      "+------+--------------------+\n",
      "|    31|[{193257, 3.96241...|\n",
      "|    34|[{180323, 5.71903...|\n",
      "|    53|[{193257, 6.82056...|\n",
      "|    65|[{194434, 6.57959...|\n",
      "|    78|[{203882, 6.40449...|\n",
      "|    85|[{193257, 5.96859...|\n",
      "|   108|[{194434, 5.37117...|\n",
      "|   133|[{183947, 5.39723...|\n",
      "|   137|[{203882, 5.62979...|\n",
      "|   148|[{194434, 5.81134...|\n",
      "|   155|[{194434, 6.06701...|\n",
      "|   193|[{202231, 5.70958...|\n",
      "|   211|[{202231, 6.28785...|\n",
      "|   243|[{159467, 4.64201...|\n",
      "|   251|[{159467, 5.19484...|\n",
      "|   255|[{194434, 6.01869...|\n",
      "|   296|[{183947, 4.53659...|\n",
      "|   321|[{194434, 5.59413...|\n",
      "|   322|[{117352, 5.30781...|\n",
      "|   362|[{194434, 5.67771...|\n",
      "+------+--------------------+\n",
      "only showing top 20 rows\n",
      "\n"
     ]
    },
    {
     "name": "stderr",
     "output_type": "stream",
     "text": [
      "\r",
      "                                                                                \r"
     ]
    }
   ],
   "source": [
    "model.recommendForAllUsers(3).show()\n",
    "\n",
    "#여기서 숫자 3은 추천하려는 항목의 수를 나타냅니다. 즉, 이 함수는 각 사용자에게 상위 3개의 추천 항목을 제공합니다.\n",
    "# 따라서, 이 함수의 출력은 각 사용자 ID와 그 사용자에 대한 상위 3개 추천 항목의 목록을 포함하는 DataFrame이 될 것입니다."
   ]
  },
  {
   "cell_type": "code",
   "execution_count": 16,
   "id": "f15e3c1c",
   "metadata": {},
   "outputs": [
    {
     "name": "stderr",
     "output_type": "stream",
     "text": [
      "[Stage 288:====================================================> (98 + 2) / 100]\r"
     ]
    },
    {
     "name": "stdout",
     "output_type": "stream",
     "text": [
      "+-------+--------------------+\n",
      "|movieId|     recommendations|\n",
      "+-------+--------------------+\n",
      "|     31|[{87426, 5.222674...|\n",
      "|     34|[{32202, 5.282521...|\n",
      "|     53|[{18885, 5.469643...|\n",
      "|     65|[{87426, 5.256643...|\n",
      "|     78|[{149507, 4.67973...|\n",
      "|     85|[{105801, 4.84626...|\n",
      "|    108|[{113621, 4.84933...|\n",
      "|    133|[{86668, 4.937959...|\n",
      "|    137|[{113441, 5.07438...|\n",
      "|    148|[{142811, 3.97046...|\n",
      "|    155|[{105801, 5.03413...|\n",
      "|    193|[{87426, 5.028076...|\n",
      "|    211|[{105801, 4.97279...|\n",
      "|    243|[{143282, 4.85350...|\n",
      "|    251|[{87426, 4.747472...|\n",
      "|    255|[{87426, 4.749002...|\n",
      "|    296|[{104135, 5.65779...|\n",
      "|    321|[{105801, 5.09203...|\n",
      "|    322|[{105801, 5.07379...|\n",
      "|    362|[{18230, 5.062369...|\n",
      "+-------+--------------------+\n",
      "only showing top 20 rows\n",
      "\n"
     ]
    },
    {
     "name": "stderr",
     "output_type": "stream",
     "text": [
      "\r",
      "                                                                                \r"
     ]
    }
   ],
   "source": [
    "model.recommendForAllItems(3).show() # 아이템마다 Top3 사람을 추천해줌"
   ]
  },
  {
   "cell_type": "code",
   "execution_count": 18,
   "id": "f68e5b9f",
   "metadata": {},
   "outputs": [
    {
     "name": "stderr",
     "output_type": "stream",
     "text": [
      "                                                                                \r"
     ]
    },
    {
     "name": "stdout",
     "output_type": "stream",
     "text": [
      "+------+\n",
      "|userId|\n",
      "+------+\n",
      "|    65|\n",
      "|    78|\n",
      "|    81|\n",
      "+------+\n",
      "\n"
     ]
    }
   ],
   "source": [
    "# 유저 한 3명에 대해서 만들어보자\n",
    "from pyspark.sql.types import IntegerType\n",
    "\n",
    "user_list = [65, 78, 81]\n",
    "user_df = spark.createDataFrame(user_list, IntegerType()).toDF('userId')\n",
    "\n",
    "user_df.show()"
   ]
  },
  {
   "cell_type": "code",
   "execution_count": 25,
   "id": "5286d274",
   "metadata": {},
   "outputs": [],
   "source": [
    "# 모델에 넣어주면 된다\n",
    "## userId별로 추천 영화 5개 \n",
    "user_recs = model.recommendForUserSubset(user_df, 5)"
   ]
  },
  {
   "cell_type": "code",
   "execution_count": 26,
   "id": "01a3b7f7",
   "metadata": {},
   "outputs": [
    {
     "name": "stderr",
     "output_type": "stream",
     "text": [
      "                                                                                \r"
     ]
    }
   ],
   "source": [
    "# 영화 아이디를 이름을 바꿔줘\n",
    "movie_list = user_recs.collect()[0].recommendations"
   ]
  },
  {
   "cell_type": "code",
   "execution_count": 27,
   "id": "f45d7cdc",
   "metadata": {},
   "outputs": [
    {
     "name": "stdout",
     "output_type": "stream",
     "text": [
      "+-------+------------------+\n",
      "|movieId|            rating|\n",
      "+-------+------------------+\n",
      "| 194434| 6.579591751098633|\n",
      "| 193918| 6.579591751098633|\n",
      "| 139036| 6.376902103424072|\n",
      "| 169606| 6.283592224121094|\n",
      "|  98221|6.1920552253723145|\n",
      "+-------+------------------+\n",
      "\n"
     ]
    }
   ],
   "source": [
    "recs_df = spark.createDataFrame(movie_list) \n",
    "recs_df.show()"
   ]
  },
  {
   "cell_type": "code",
   "execution_count": 30,
   "id": "16f9e758",
   "metadata": {},
   "outputs": [],
   "source": [
    "movies_file = '/Users/keemyohaan/Desktop/001.Python/004. Study/009.FastCampus/003.DE/01-spark/data/ml-25m/movies.csv'\n",
    "movies_df = spark.read.csv(f'file:///{movies_file}', inferSchema=True, header=True)"
   ]
  },
  {
   "cell_type": "code",
   "execution_count": 31,
   "id": "013f9de1",
   "metadata": {},
   "outputs": [
    {
     "name": "stdout",
     "output_type": "stream",
     "text": [
      "+-------+--------------------+--------------------+\n",
      "|movieId|               title|              genres|\n",
      "+-------+--------------------+--------------------+\n",
      "|      1|    Toy Story (1995)|Adventure|Animati...|\n",
      "|      2|      Jumanji (1995)|Adventure|Childre...|\n",
      "|      3|Grumpier Old Men ...|      Comedy|Romance|\n",
      "|      4|Waiting to Exhale...|Comedy|Drama|Romance|\n",
      "|      5|Father of the Bri...|              Comedy|\n",
      "|      6|         Heat (1995)|Action|Crime|Thri...|\n",
      "|      7|      Sabrina (1995)|      Comedy|Romance|\n",
      "|      8| Tom and Huck (1995)|  Adventure|Children|\n",
      "|      9| Sudden Death (1995)|              Action|\n",
      "|     10|    GoldenEye (1995)|Action|Adventure|...|\n",
      "|     11|American Presiden...|Comedy|Drama|Romance|\n",
      "|     12|Dracula: Dead and...|       Comedy|Horror|\n",
      "|     13|        Balto (1995)|Adventure|Animati...|\n",
      "|     14|        Nixon (1995)|               Drama|\n",
      "|     15|Cutthroat Island ...|Action|Adventure|...|\n",
      "|     16|       Casino (1995)|         Crime|Drama|\n",
      "|     17|Sense and Sensibi...|       Drama|Romance|\n",
      "|     18|   Four Rooms (1995)|              Comedy|\n",
      "|     19|Ace Ventura: When...|              Comedy|\n",
      "|     20|  Money Train (1995)|Action|Comedy|Cri...|\n",
      "+-------+--------------------+--------------------+\n",
      "only showing top 20 rows\n",
      "\n"
     ]
    }
   ],
   "source": [
    "movies_df.show()"
   ]
  },
  {
   "cell_type": "code",
   "execution_count": 32,
   "id": "99e259f9",
   "metadata": {},
   "outputs": [],
   "source": [
    "recs_df.createOrReplaceTempView('recommendations')\n",
    "movies_df.createOrReplaceTempView('movies')"
   ]
  },
  {
   "cell_type": "code",
   "execution_count": 33,
   "id": "65c7dc79",
   "metadata": {},
   "outputs": [
    {
     "name": "stdout",
     "output_type": "stream",
     "text": [
      "+-------+--------------------+------------------+-------+------------------+\n",
      "|movieId|               title|            genres|movieId|            rating|\n",
      "+-------+--------------------+------------------+-------+------------------+\n",
      "| 193918|Smoke 'Em If You ...|            Comedy| 193918| 6.579591751098633|\n",
      "| 194434|   Adrenaline (1990)|(no genres listed)| 194434| 6.579591751098633|\n",
      "| 139036|World Gone Wild (...|     Action|Sci-Fi| 139036| 6.376902103424072|\n",
      "| 169606|Dara O'Briain Cro...|            Comedy| 169606| 6.283592224121094|\n",
      "|  98221|Year One, The (L'...|            Comedy|  98221|6.1920552253723145|\n",
      "+-------+--------------------+------------------+-------+------------------+\n",
      "\n"
     ]
    }
   ],
   "source": [
    "query = \"\"\"\n",
    "SELECT * \n",
    "FROM \n",
    "    movies JOIN recommendations\n",
    "    ON movies.movieId = recommendations.movieId\n",
    "ORDER BY \n",
    "    rating desc\n",
    "\"\"\"\n",
    "recommended_movies = spark.sql(query)\n",
    "recommended_movies.show()"
   ]
  },
  {
   "cell_type": "markdown",
   "id": "1f3c5992",
   "metadata": {},
   "source": [
    "실제로 쓸 때는, 하나의 Function안에 넣어서 쓰면 편리하게 쓸 수 있을 것 같다."
   ]
  },
  {
   "cell_type": "code",
   "execution_count": 34,
   "id": "c94bb7d0",
   "metadata": {},
   "outputs": [],
   "source": [
    "def get_recommendations(user_id, num_recs):\n",
    "    users_df = spark.createDataFrame([user_id], IntegerType()).toDF('userId')\n",
    "    user_recs_df = model.recommendForUserSubset(user_df, num_recs) #recs_df랑 똑같은 형태가 되겠지?\n",
    "    \n",
    "    recs_list = user_recs_df.collect()[0].recommendations\n",
    "    recs_df = spark.createDataFrame(recs_list) \n",
    "    \n",
    "    recommended_movies = spark.sql(query)\n",
    "    return recommended_movies\n",
    "    "
   ]
  },
  {
   "cell_type": "code",
   "execution_count": 35,
   "id": "6a1cd9d7",
   "metadata": {},
   "outputs": [
    {
     "name": "stderr",
     "output_type": "stream",
     "text": [
      "                                                                                \r"
     ]
    },
    {
     "data": {
      "text/html": [
       "<div>\n",
       "<style scoped>\n",
       "    .dataframe tbody tr th:only-of-type {\n",
       "        vertical-align: middle;\n",
       "    }\n",
       "\n",
       "    .dataframe tbody tr th {\n",
       "        vertical-align: top;\n",
       "    }\n",
       "\n",
       "    .dataframe thead th {\n",
       "        text-align: right;\n",
       "    }\n",
       "</style>\n",
       "<table border=\"1\" class=\"dataframe\">\n",
       "  <thead>\n",
       "    <tr style=\"text-align: right;\">\n",
       "      <th></th>\n",
       "      <th>movieId</th>\n",
       "      <th>title</th>\n",
       "      <th>genres</th>\n",
       "      <th>movieId</th>\n",
       "      <th>rating</th>\n",
       "    </tr>\n",
       "  </thead>\n",
       "  <tbody>\n",
       "    <tr>\n",
       "      <th>0</th>\n",
       "      <td>194434</td>\n",
       "      <td>Adrenaline (1990)</td>\n",
       "      <td>(no genres listed)</td>\n",
       "      <td>194434</td>\n",
       "      <td>6.579592</td>\n",
       "    </tr>\n",
       "    <tr>\n",
       "      <th>1</th>\n",
       "      <td>193918</td>\n",
       "      <td>Smoke 'Em If You Got 'Em (1988)</td>\n",
       "      <td>Comedy</td>\n",
       "      <td>193918</td>\n",
       "      <td>6.579592</td>\n",
       "    </tr>\n",
       "    <tr>\n",
       "      <th>2</th>\n",
       "      <td>139036</td>\n",
       "      <td>World Gone Wild (1988)</td>\n",
       "      <td>Action|Sci-Fi</td>\n",
       "      <td>139036</td>\n",
       "      <td>6.376902</td>\n",
       "    </tr>\n",
       "    <tr>\n",
       "      <th>3</th>\n",
       "      <td>169606</td>\n",
       "      <td>Dara O'Briain Crowd Tickler (2015)</td>\n",
       "      <td>Comedy</td>\n",
       "      <td>169606</td>\n",
       "      <td>6.283592</td>\n",
       "    </tr>\n",
       "    <tr>\n",
       "      <th>4</th>\n",
       "      <td>98221</td>\n",
       "      <td>Year One, The (L'an 01) (1973)</td>\n",
       "      <td>Comedy</td>\n",
       "      <td>98221</td>\n",
       "      <td>6.192055</td>\n",
       "    </tr>\n",
       "  </tbody>\n",
       "</table>\n",
       "</div>"
      ],
      "text/plain": [
       "   movieId                               title              genres  movieId  \\\n",
       "0   194434                   Adrenaline (1990)  (no genres listed)   194434   \n",
       "1   193918     Smoke 'Em If You Got 'Em (1988)              Comedy   193918   \n",
       "2   139036              World Gone Wild (1988)       Action|Sci-Fi   139036   \n",
       "3   169606  Dara O'Briain Crowd Tickler (2015)              Comedy   169606   \n",
       "4    98221      Year One, The (L'an 01) (1973)              Comedy    98221   \n",
       "\n",
       "     rating  \n",
       "0  6.579592  \n",
       "1  6.579592  \n",
       "2  6.376902  \n",
       "3  6.283592  \n",
       "4  6.192055  "
      ]
     },
     "execution_count": 35,
     "metadata": {},
     "output_type": "execute_result"
    }
   ],
   "source": [
    "recs = get_recommendations(456, 10) \n",
    "recs.toPandas()"
   ]
  },
  {
   "cell_type": "code",
   "execution_count": 36,
   "id": "4f00cbc7",
   "metadata": {},
   "outputs": [],
   "source": [
    "spark.stop()"
   ]
  },
  {
   "cell_type": "code",
   "execution_count": null,
   "id": "e192598a",
   "metadata": {},
   "outputs": [],
   "source": [
    "-"
   ]
  }
 ],
 "metadata": {
  "kernelspec": {
   "display_name": "Python 3 (ipykernel)",
   "language": "python",
   "name": "python3"
  },
  "language_info": {
   "codemirror_mode": {
    "name": "ipython",
    "version": 3
   },
   "file_extension": ".py",
   "mimetype": "text/x-python",
   "name": "python",
   "nbconvert_exporter": "python",
   "pygments_lexer": "ipython3",
   "version": "3.10.8"
  }
 },
 "nbformat": 4,
 "nbformat_minor": 5
}
