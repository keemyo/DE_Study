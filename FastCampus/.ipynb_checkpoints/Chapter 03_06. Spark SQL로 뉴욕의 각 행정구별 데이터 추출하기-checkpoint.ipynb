{
 "cells": [
  {
   "cell_type": "code",
   "execution_count": 6,
   "id": "4b60ebe8",
   "metadata": {},
   "outputs": [
    {
     "name": "stdout",
     "output_type": "stream",
     "text": [
      "23/06/04 22:42:16 WARN SparkSession: Using an existing Spark session; only runtime SQL configurations will take effect.\n"
     ]
    }
   ],
   "source": [
    "from pyspark.sql import SparkSession\n",
    "\n",
    "spark = (\n",
    "    SparkSession.builder\n",
    "    .appName('trip_count_by_zone_sql')\n",
    "    .config(\"spark.ui.reverseProxyUrl\", \"4050\")  # 이 부분이 추가된 부분입니다.\n",
    "    .getOrCreate()\n",
    ")"
   ]
  },
  {
   "cell_type": "code",
   "execution_count": 15,
   "id": "757c2051",
   "metadata": {},
   "outputs": [
    {
     "name": "stderr",
     "output_type": "stream",
     "text": [
      "                                                                                \r"
     ]
    }
   ],
   "source": [
    "directory = \"/Users/keemyohaan/Desktop/001.Python/004. Study/009.FastCampus/003.DE/01-spark/data\"\n",
    "trip_data = \"fhvhv_tripdata_2020-03.csv\"\n",
    "zone_data = 'taxi+_zone_lookup.csv'\n",
    "\n",
    "trip_data = spark.read.csv(f\"file:///{directory}/{trip_data}\", inferSchema = True, header= True)\n",
    "zone_data = spark.read.csv(f\"file:///{directory}/{zone_data}\", inferSchema = True, header= True)"
   ]
  },
  {
   "cell_type": "code",
   "execution_count": 16,
   "id": "f242dc98",
   "metadata": {},
   "outputs": [
    {
     "name": "stdout",
     "output_type": "stream",
     "text": [
      "23/06/04 22:51:11 WARN CSVHeaderChecker: CSV header does not conform to the schema.\n",
      " Header: , hvfhs_license_num, dispatching_base_num, pickup_datetime, PULocationID, DOLocationID, SR_Flag\n",
      " Schema: _c0, hvfhs_license_num, dispatching_base_num, pickup_datetime, PULocationID, DOLocationID, SR_Flag\n",
      "Expected: _c0 but found: \n",
      "CSV file: file:///Users/keemyohaan/Desktop/001.Python/004.%20Study/009.FastCampus/003.DE/01-spark/data/fhvhv_tripdata_2020-03.csv\n",
      "+---+-----------------+--------------------+-------------------+------------+------------+-------+\n",
      "|_c0|hvfhs_license_num|dispatching_base_num|    pickup_datetime|PULocationID|DOLocationID|SR_Flag|\n",
      "+---+-----------------+--------------------+-------------------+------------+------------+-------+\n",
      "|  0|           HV0005|              B02510|2020-03-01 00:03:40|          81|         159|      N|\n",
      "|  1|           HV0005|              B02510|2020-03-01 00:28:05|         168|         119|      N|\n",
      "|  2|           HV0003|              B02764|2020-03-01 00:03:07|         137|         209|      N|\n",
      "|  3|           HV0003|              B02764|2020-03-01 00:18:42|         209|          80|      Y|\n",
      "|  4|           HV0003|              B02764|2020-03-01 00:44:24|         256|         226|      N|\n",
      "+---+-----------------+--------------------+-------------------+------------+------------+-------+\n",
      "only showing top 5 rows\n",
      "\n"
     ]
    }
   ],
   "source": [
    "trip_data.show(5)"
   ]
  },
  {
   "cell_type": "code",
   "execution_count": 17,
   "id": "0256f95b",
   "metadata": {},
   "outputs": [
    {
     "name": "stdout",
     "output_type": "stream",
     "text": [
      "+----------+-------------+--------------------+------------+\n",
      "|LocationID|      Borough|                Zone|service_zone|\n",
      "+----------+-------------+--------------------+------------+\n",
      "|         1|          EWR|      Newark Airport|         EWR|\n",
      "|         2|       Queens|         Jamaica Bay|   Boro Zone|\n",
      "|         3|        Bronx|Allerton/Pelham G...|   Boro Zone|\n",
      "|         4|    Manhattan|       Alphabet City| Yellow Zone|\n",
      "|         5|Staten Island|       Arden Heights|   Boro Zone|\n",
      "+----------+-------------+--------------------+------------+\n",
      "only showing top 5 rows\n",
      "\n"
     ]
    }
   ],
   "source": [
    "zone_data.show(5)"
   ]
  },
  {
   "cell_type": "code",
   "execution_count": 22,
   "id": "ce83aa9c",
   "metadata": {},
   "outputs": [],
   "source": [
    "trip_data.createOrReplaceTempView('trip_data')\n",
    "zone_data.createOrReplaceTempView('zone_data')"
   ]
  },
  {
   "cell_type": "code",
   "execution_count": 24,
   "id": "982aa4f3",
   "metadata": {},
   "outputs": [
    {
     "name": "stdout",
     "output_type": "stream",
     "text": [
      "23/06/04 22:55:16 WARN CSVHeaderChecker: CSV header does not conform to the schema.\n",
      " Header: , hvfhs_license_num, dispatching_base_num, pickup_datetime, PULocationID, DOLocationID, SR_Flag\n",
      " Schema: _c0, hvfhs_license_num, dispatching_base_num, pickup_datetime, PULocationID, DOLocationID, SR_Flag\n",
      "Expected: _c0 but found: \n",
      "CSV file: file:///Users/keemyohaan/Desktop/001.Python/004.%20Study/009.FastCampus/003.DE/01-spark/data/fhvhv_tripdata_2020-03.csv\n",
      "+---+-----------------+--------------------+-------------------+------------+------------+-------+\n",
      "|_c0|hvfhs_license_num|dispatching_base_num|    pickup_datetime|PULocationID|DOLocationID|SR_Flag|\n",
      "+---+-----------------+--------------------+-------------------+------------+------------+-------+\n",
      "|  0|           HV0005|              B02510|2020-03-01 00:03:40|          81|         159|      N|\n",
      "|  1|           HV0005|              B02510|2020-03-01 00:28:05|         168|         119|      N|\n",
      "|  2|           HV0003|              B02764|2020-03-01 00:03:07|         137|         209|      N|\n",
      "|  3|           HV0003|              B02764|2020-03-01 00:18:42|         209|          80|      Y|\n",
      "|  4|           HV0003|              B02764|2020-03-01 00:44:24|         256|         226|      N|\n",
      "+---+-----------------+--------------------+-------------------+------------+------------+-------+\n",
      "\n"
     ]
    }
   ],
   "source": [
    "spark.sql('select * from trip_data limit 5').show()"
   ]
  },
  {
   "cell_type": "code",
   "execution_count": 23,
   "id": "07f0391c",
   "metadata": {},
   "outputs": [
    {
     "name": "stdout",
     "output_type": "stream",
     "text": [
      "+----------+-------------+--------------------+------------+\n",
      "|LocationID|      Borough|                Zone|service_zone|\n",
      "+----------+-------------+--------------------+------------+\n",
      "|         1|          EWR|      Newark Airport|         EWR|\n",
      "|         2|       Queens|         Jamaica Bay|   Boro Zone|\n",
      "|         3|        Bronx|Allerton/Pelham G...|   Boro Zone|\n",
      "|         4|    Manhattan|       Alphabet City| Yellow Zone|\n",
      "|         5|Staten Island|       Arden Heights|   Boro Zone|\n",
      "+----------+-------------+--------------------+------------+\n",
      "\n"
     ]
    }
   ],
   "source": [
    "spark.sql('select * from zone_data limit 5').show()"
   ]
  },
  {
   "cell_type": "code",
   "execution_count": 27,
   "id": "f51c3327",
   "metadata": {},
   "outputs": [
    {
     "name": "stderr",
     "output_type": "stream",
     "text": [
      "[Stage 21:===>                                                    (1 + 15) / 16]\r"
     ]
    },
    {
     "name": "stdout",
     "output_type": "stream",
     "text": [
      "+-------------+--------+\n",
      "|      Borough|count(1)|\n",
      "+-------------+--------+\n",
      "|       Queens| 2437394|\n",
      "|          EWR|     362|\n",
      "|      Unknown|     845|\n",
      "|     Brooklyn| 3735765|\n",
      "|Staten Island|  178818|\n",
      "|    Manhattan| 4953147|\n",
      "|        Bronx| 2086597|\n",
      "+-------------+--------+\n",
      "\n"
     ]
    },
    {
     "name": "stderr",
     "output_type": "stream",
     "text": [
      "\r",
      "                                                                                \r"
     ]
    }
   ],
   "source": [
    "spark.sql('select zone_data.Borough, count(*) from trip_data join zone_data on trip_data.PULocationID = zone_data.LocationID group by 1').show()"
   ]
  },
  {
   "cell_type": "markdown",
   "id": "7587111f",
   "metadata": {},
   "source": [
    "맨하탄에서 가장 많이 승차가 일어나는군!\n",
    "\n",
    "그럼 하차는 어떨까?"
   ]
  },
  {
   "cell_type": "code",
   "execution_count": 28,
   "id": "c17ef1dc",
   "metadata": {},
   "outputs": [
    {
     "name": "stderr",
     "output_type": "stream",
     "text": [
      "\r",
      "[Stage 25:>                                                       (0 + 16) / 16]\r"
     ]
    },
    {
     "name": "stdout",
     "output_type": "stream",
     "text": [
      "+-------------+--------+\n",
      "|      Borough|count(1)|\n",
      "+-------------+--------+\n",
      "|       Queens| 2468416|\n",
      "|          EWR|   65066|\n",
      "|      Unknown|  387760|\n",
      "|     Brooklyn| 3696684|\n",
      "|Staten Island|  177727|\n",
      "|    Manhattan| 4553783|\n",
      "|        Bronx| 2043492|\n",
      "+-------------+--------+\n",
      "\n"
     ]
    },
    {
     "name": "stderr",
     "output_type": "stream",
     "text": [
      "\r",
      "[Stage 25:=============================================>          (13 + 3) / 16]\r",
      "\r",
      "                                                                                \r"
     ]
    }
   ],
   "source": [
    "spark.sql(\n",
    "    'select \\\n",
    "        zone_data.Borough, \\\n",
    "        count(*) \\\n",
    "    from trip_data join zone_data \\\n",
    "    on trip_data.DOLocationID = zone_data.LocationID group by 1').show()"
   ]
  },
  {
   "cell_type": "markdown",
   "id": "3fb14809",
   "metadata": {},
   "source": [
    "공항에서 하차가 많이 일어나는군"
   ]
  },
  {
   "cell_type": "code",
   "execution_count": null,
   "id": "f831d8ed",
   "metadata": {},
   "outputs": [],
   "source": []
  }
 ],
 "metadata": {
  "kernelspec": {
   "display_name": "Python 3 (ipykernel)",
   "language": "python",
   "name": "python3"
  },
  "language_info": {
   "codemirror_mode": {
    "name": "ipython",
    "version": 3
   },
   "file_extension": ".py",
   "mimetype": "text/x-python",
   "name": "python",
   "nbconvert_exporter": "python",
   "pygments_lexer": "ipython3",
   "version": "3.10.8"
  }
 },
 "nbformat": 4,
 "nbformat_minor": 5
}
