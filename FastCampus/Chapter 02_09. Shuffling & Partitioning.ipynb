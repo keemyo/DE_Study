{
 "cells": [
  {
   "cell_type": "markdown",
   "id": "0b841ad9",
   "metadata": {},
   "source": [
    "# Shuffling\n",
    "- 그룹핑시 데이터를 한 노드에서 다른 노드로 옮길 때 발생, 성능을 (많이) 저하시킨다.\n",
    "- 여러 네트워크 연산을 일으키기 때문에 네트워크 코스트가 크다.\n",
    "\n",
    "### Shuffle을 일으킬 수 있는 작업들\n",
    "- Join, leftOuterJoin, rightOuterJoin\n",
    "- GroupByKey\n",
    "- ReduceByKey\n",
    "- CombineByKey\n",
    "- Distinct\n",
    "- Intersection\n",
    "- Repartition\n",
    "- Coalesce\n",
    "\n",
    "### Shuffling은 언제 일어날까?\n",
    "- 결과로 나오는 RDD가 원본 RDD의 다른 요소를 참조하거나 , 다른 RDD를 참조할 때\n",
    "\n",
    "### Partitioner를 이용한 성능최적화 \n",
    "- GroupByKeys + Reduce를 하게되면 => 성능을 매우 떨어짐\n"
   ]
  },
  {
   "cell_type": "markdown",
   "id": "dfc1c40b",
   "metadata": {},
   "source": [
    "### Shuffle을 최소화 하려면\n",
    "- 미리 파티션을 만들어 두고 캐싱 후 reduceByKey 실행\n",
    "- 미리 파티션을 만들어 두고 캐싱 후 Join 실행\n",
    "- 둘다 파티션과 캐싱을 조합해서 최대한 로컬 환경에서 연산이 실행되도록 하는 방식\n",
    "\n",
    "***셔플을 최소화해서 10배의 성능 향상이 가능하다***"
   ]
  },
  {
   "cell_type": "markdown",
   "id": "22d08ba6",
   "metadata": {},
   "source": [
    "# 2. 예제"
   ]
  },
  {
   "cell_type": "code",
   "execution_count": 1,
   "id": "ec364a63",
   "metadata": {},
   "outputs": [],
   "source": [
    "from operator import add\n",
    "from pyspark import SparkConf, SparkContext\n",
    "\n",
    "import warnings \n",
    "warnings.simplefilter(action='ignore')\n",
    "\n",
    "conf = SparkConf().setMaster('local').setAppName('category-review-average')\n",
    "sc = SparkContext(conf=conf)"
   ]
  },
  {
   "cell_type": "code",
   "execution_count": 2,
   "id": "5fd8bdd4",
   "metadata": {},
   "outputs": [
    {
     "name": "stdout",
     "output_type": "stream",
     "text": [
      "spark: 2\n",
      "is: 2\n",
      "a: 1\n",
      "fast: 1\n",
      "and: 2\n",
      "general-purpose: 1\n",
      "cluster-computing: 1\n",
      "system: 2\n",
      "it: 1\n",
      "provides: 1\n",
      "high-level: 1\n",
      "apis: 1\n",
      "in: 1\n",
      "java,: 1\n",
      "scala,: 1\n",
      "python: 1\n",
      "r: 1\n",
      "built: 1\n",
      "on: 1\n",
      "the: 1\n",
      "hadoop: 1\n",
      "distributed: 1\n",
      "file: 1\n"
     ]
    }
   ],
   "source": [
    "# reduceByKey\n",
    "# 임의의 텍스트 데이터\n",
    "text_data = [\"Spark is a fast and general-purpose cluster-computing system\",\n",
    "             \"It provides high-level APIs in Java, Scala, Python and R\",\n",
    "             \"Spark is built on the Hadoop Distributed File System\"]\n",
    "\n",
    "# 데이터를 RDD로 변환\n",
    "textRDD = sc.parallelize(text_data)\n",
    "\n",
    "# 단어 빈도 계산\n",
    "word_frequency = (textRDD\n",
    "    .flatMap(lambda line: line.split())            # 각 줄을 단어로 분할\n",
    "    .map(lambda word: (word.lower(), 1))           # 각 단어를 소문자로 변환하고 (word, 1) 쌍을 생성\n",
    "    .reduceByKey(lambda a, b: a + b))              # 같은 단어의 값을 합산\n",
    "\n",
    "# 결과 출력\n",
    "for word, count in word_frequency.collect():\n",
    "    print(f\"{word}: {count}\")"
   ]
  },
  {
   "cell_type": "code",
   "execution_count": 4,
   "id": "f300ef55",
   "metadata": {},
   "outputs": [
    {
     "name": "stdout",
     "output_type": "stream",
     "text": [
      "spark: 2\n",
      "is: 2\n",
      "a: 1\n",
      "fast: 1\n",
      "and: 2\n",
      "general-purpose: 1\n",
      "cluster-computing: 1\n",
      "system: 2\n",
      "it: 1\n",
      "provides: 1\n",
      "high-level: 1\n",
      "apis: 1\n",
      "in: 1\n",
      "java,: 1\n",
      "scala,: 1\n",
      "python: 1\n",
      "r: 1\n",
      "built: 1\n",
      "on: 1\n",
      "the: 1\n",
      "hadoop: 1\n",
      "distributed: 1\n",
      "file: 1\n"
     ]
    }
   ],
   "source": [
    "# 임의의 텍스트 데이터\n",
    "text_data = [\"Spark is a fast and general-purpose cluster-computing system\",\n",
    "             \"It provides high-level APIs in Java, Scala, Python and R\",\n",
    "             \"Spark is built on the Hadoop Distributed File System\"]\n",
    "\n",
    "# 데이터를 RDD로 변환\n",
    "textRDD = sc.parallelize(text_data)\n",
    "\n",
    "# 단어 빈도 계산\n",
    "word_frequency = (textRDD\n",
    "    .flatMap(lambda line: line.split())              # 각 줄을 단어로 분할\n",
    "    .map(lambda word: (word.lower(), 1))             # 각 단어를 소문자로 변환하고 (word, 1) 쌍을 생성\n",
    "    .groupByKey()                                    # 같은 단어를 그룹화\n",
    "    .map(lambda wc: (wc[0], sum(wc[1]))))            # 그룹화된 단어의 값을 합산\n",
    "\n",
    "# 결과 출력\n",
    "for word, count in word_frequency.collect():\n",
    "    print(f\"{word}: {count}\")"
   ]
  },
  {
   "cell_type": "markdown",
   "id": "2ba0bf56",
   "metadata": {},
   "source": [
    "# Partition은 어떻게 결정될까?\n",
    "\n",
    "### 1) 데이터가 어느 노드 /파티션에 들어가는지는 어떻게 결정될까?\n",
    "\n",
    "### 2) 파티션의 목적\n",
    "- 데이터를 최대한 균일하게 퍼트리고 쿼리가 같이 되는 데이터를 최대한 옆에 두어 검색 성능을 향상시키는 것\n",
    "- 파티션은 PairedRDD일 때만 의미가 있음, 일반 RDD는 처음부터 끝까지 scanning을 해야함(의미없음)\n",
    "- 해시로 파티셔닝했을 때 어떤 데이터를 찾고 싶다 했을 때 Key를 통해 바로 찾을 수 있음\n",
    "\n",
    "### 3) Partition의 특징\n",
    "- RDD는 쪼개져서 여러 파티션에 저장됨\n",
    "- 하나의 파티션은 하나의 노드 (서버)에 저장됨\n",
    "- 하나의 노드는 여러개의 파티션을 가질 수 있음\n",
    "- 파티션의 크기와 배치는 자유롭게 설정 가능하며 성능에 큰 영향을 미침\n",
    "- Key-Value RDD를 사용할때만 의미가 있다.\n",
    "\n",
    "***스파크의 파티셔닝 == 일반 프로그래밍에서 자료구조를 선택하는 것**\n",
    "\n",
    "### 4) Partition의 종류\n",
    "- Hash Partitioning\n",
    "- Range Partitioning\n",
    "\n",
    "##### (1) Hash Partitioning \n",
    "- 데이터를 여러 파티션에 균일하게 분배하는 방식\n",
    "    - 자료 구조 중 Dictionary와 유사하다\n",
    "    - key가 여러가지가 있을 때 key를 hash function을 통해 hash 값으로 반환한다.\n",
    "    - 랜덤하게 나온 hash 값을 Key로 만들고 다시 data를 저장한다.\n",
    "        - 데이터가 랜덤하게 분포\n",
    "- [극단적인 예] 2개의 파티션이 있는 상황에서:\n",
    "    - 짝수의 Key만 있는 데이터셋에 Hash 함수가 (x%2)라면?\n",
    "    - 한쪽 파티션만 사용하게 될 것\n",
    "    \n",
    "    Partition 1: [2,4,6,8,10, ...]\n",
    "    Partition 2: []\n",
    "\n",
    "    데이터가 Skewed(쏠림) 됐음. 즉 적절한 hash 함수를 쓰는게 필요함\n",
    "    \n",
    "##### (2) Range Partitioning     \n",
    "- 순서가 있는 정렬된 파티셔닝\n",
    "    - 키의 순서에 따라\n",
    "    - 키의 집합의 순서에 따라 \n",
    "    \n",
    "서비스의 쿼리 패턴이 날짜 위주면 일별 Range Partition 고려\n",
    "\n",
    "### 5) Memory & Disk Partition\n",
    "\n",
    "##### (1) 디스크에서 파티션하기\n",
    "- PartitionBy()\n",
    "- 사용자가 지정한 파티션을 가지는 RDD를 생성하는 함수\n",
    "    - partitionBy()\n",
    "    - 파티션을 만든 후엔 Persist()를 하지 않으면:\n",
    "        - 다음 연산에 불릴때마다 반복하게 된다! (셔플링이 반복적으로 일어난다).\n"
   ]
  },
  {
   "cell_type": "code",
   "execution_count": 10,
   "id": "bfe4bdf7",
   "metadata": {
    "scrolled": false
   },
   "outputs": [
    {
     "name": "stdout",
     "output_type": "stream",
     "text": [
      "[(1, 1), (2, 2), (3, 3), (4, 4), (2, 2), (4, 4), (1, 1)]\n",
      "[[(2, 2), (4, 4), (2, 2), (4, 4)], [(1, 1), (3, 3), (1, 1)]]\n",
      "[[(2, 2), (4, 4), (2, 2), (4, 4)], [(1, 1), (3, 3), (1, 1)]]\n"
     ]
    }
   ],
   "source": [
    "pairs = sc.parallelize([1,2,3,4,2,4,1]).map(lambda x: (x,x)) # 숫자를 입려받아 RDD를 생성. \n",
    "print(pairs.collect())\n",
    "\n",
    "#Glom은 partition까지 보여주는 transformation 어떤 형상인지 알 수 있다.\n",
    "# Hash Partitioning을 적용하며 파티션 수는 2다. \n",
    "# glom()은 RDD를 파티션별로 그룹화\n",
    "print(pairs.partitionBy(2).glom().collect()) \n",
    "\n",
    "# 파티션을 hash 함수를 새로 지정해주고 싶다? => 짝수/홀수\n",
    "print(pairs.partitionBy(2, lambda x: x%2).glom().collect())"
   ]
  },
  {
   "cell_type": "markdown",
   "id": "2fd3b593",
   "metadata": {},
   "source": [
    "##### (2) 메모리에서 파티션하기\n",
    "- Repartition()\n",
    "- coalesce()\n",
    "\n",
    "##### Repartition과 Coalesce 둘다 파티션의 갯수를 조절하는데 사용\n",
    "- 둘다 shuffling을 동반하여 매우 비싼 작업\n",
    "- Repartition: 파티션의 크기를 줄이거나 늘리는데 사용됨\n",
    "- Coalesce: 파티션의 크기를 줄이는데 사용됨"
   ]
  },
  {
   "cell_type": "markdown",
   "id": "2e595845",
   "metadata": {},
   "source": [
    "##### 아래의 함수들은 연산중에 새로운 파티션을 만들 수 있다.\n",
    "- Join(leftOuterJoin, rightOuterJoin) \n",
    "- groupByKey\n",
    "- reduceByKey\n",
    "- foldByKey\n",
    "- partitionBy\n",
    "- Sort\n",
    "- mapValues(Parent)\n",
    "- flatMapValues(Parent)\n",
    "- filter(Parent)\n",
    "- 등등"
   ]
  },
  {
   "cell_type": "markdown",
   "id": "d180f8f8",
   "metadata": {},
   "source": [
    "- Map vs MapValues\n",
    "- flatMap vs FlatMapValues\n",
    "- map과 flatMap은 Key의 변형이 가능하기 때문"
   ]
  },
  {
   "cell_type": "code",
   "execution_count": null,
   "id": "3695ff07",
   "metadata": {},
   "outputs": [],
   "source": []
  }
 ],
 "metadata": {
  "kernelspec": {
   "display_name": "Python 3 (ipykernel)",
   "language": "python",
   "name": "python3"
  },
  "language_info": {
   "codemirror_mode": {
    "name": "ipython",
    "version": 3
   },
   "file_extension": ".py",
   "mimetype": "text/x-python",
   "name": "python",
   "nbconvert_exporter": "python",
   "pygments_lexer": "ipython3",
   "version": "3.10.8"
  }
 },
 "nbformat": 4,
 "nbformat_minor": 5
}
