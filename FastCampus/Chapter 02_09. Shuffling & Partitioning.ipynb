{
 "cells": [
  {
   "cell_type": "markdown",
   "id": "b696d951",
   "metadata": {},
   "source": [
    "# Shuffling\n",
    "- 그룹핑시 데이터를 한 노드에서 다른 노드로 옮길 때 발생, 성능을 (많이) 저하시킨다.\n",
    "- 여러 네트워크 연산을 일으키기 때문에 네트워크 코스트가 크다.\n",
    "\n",
    "### Shuffle을 일으킬 수 있는 작업들\n",
    "- Join, leftOuterJoin, rightOuterJoin\n",
    "- GroupByKey\n",
    "- ReduceByKey\n",
    "- CombineByKey\n",
    "- Distinct\n",
    "- Intersection\n",
    "- Repartition\n",
    "- Coalesce\n",
    "\n",
    "### Shuffling은 언제 일어날까?\n",
    "- 결과로 나오는 RDD가 원본 RDD의 다른 요소를 참조하거나 , 다른 RDD를 참조할 때\n",
    "\n",
    "### Partitioner를 이용한 성능최적화 \n",
    "- GroupByKeys + Reduce를 하게되면 => 성능을 매우 떨어짐\n"
   ]
  },
  {
   "cell_type": "markdown",
   "id": "3f43badf",
   "metadata": {},
   "source": [
    "<table>\n",
    "  <tr>\n",
    "    <td>\n",
    "      <img src=\"GroupByKey+Reduce.png\" alt=\"Image 1\" width=\"500\" height=\"300\">\n",
    "    </td>\n",
    "    <td>\n",
    "      <img src=\"ReduceByKey.Png\" alt=\"Image 2\" width=\"500\" height=\"300\">\n",
    "    </td>\n",
    "  </tr>\n",
    "</table>"
   ]
  },
  {
   "cell_type": "markdown",
   "id": "6aa033e6",
   "metadata": {},
   "source": [
    "### Shuffle을 최소화 하려면\n",
    "- 미리 파티션을 만들어 두고 캐싱 후 reduceByKey 실행\n",
    "- 미리 파티션을 만들어 두고 캐싱 후 Join 실행\n",
    "- 둘다 파티션과 캐싱을 조합해서 최대한 로컬 환경에서 연산이 실행되도록 하는 방식\n",
    "\n",
    "***셔플을 최소화해서 10배의 성능 향상이 가능하다***"
   ]
  },
  {
   "cell_type": "markdown",
   "id": "21310493",
   "metadata": {},
   "source": [
    "# 2. 예제"
   ]
  },
  {
   "cell_type": "code",
   "execution_count": 5,
   "id": "d8bb9e8c",
   "metadata": {},
   "outputs": [
    {
     "name": "stdout",
     "output_type": "stream",
     "text": [
      "23/04/02 17:51:58 WARN Utils: Your hostname, Keemyoui-MacBookPro.local resolves to a loopback address: 127.0.0.1; using 192.168.35.79 instead (on interface en0)\n",
      "23/04/02 17:51:58 WARN Utils: Set SPARK_LOCAL_IP if you need to bind to another address\n"
     ]
    },
    {
     "name": "stderr",
     "output_type": "stream",
     "text": [
      "Setting default log level to \"WARN\".\n",
      "To adjust logging level use sc.setLogLevel(newLevel). For SparkR, use setLogLevel(newLevel).\n"
     ]
    },
    {
     "name": "stdout",
     "output_type": "stream",
     "text": [
      "23/04/02 17:51:58 WARN NativeCodeLoader: Unable to load native-hadoop library for your platform... using builtin-java classes where applicable\n",
      "23/04/02 17:51:59 WARN Utils: Service 'SparkUI' could not bind on port 4040. Attempting port 4041.\n"
     ]
    }
   ],
   "source": [
    "from operator import add\n",
    "from pyspark import SparkConf, SparkContext\n",
    "\n",
    "import warnings \n",
    "warnings.simplefilter(action='ignore')\n",
    "\n",
    "conf = SparkConf().setMaster('local').setAppName('category-review-average')\n",
    "sc = SparkContext(conf=conf)"
   ]
  },
  {
   "cell_type": "code",
   "execution_count": 6,
   "id": "bd6c466e",
   "metadata": {},
   "outputs": [
    {
     "name": "stderr",
     "output_type": "stream",
     "text": [
      "\r",
      "[Stage 0:>                                                          (0 + 1) / 1]\r"
     ]
    },
    {
     "name": "stdout",
     "output_type": "stream",
     "text": [
      "spark: 2\n",
      "is: 2\n",
      "a: 1\n",
      "fast: 1\n",
      "and: 2\n",
      "general-purpose: 1\n",
      "cluster-computing: 1\n",
      "system: 2\n",
      "it: 1\n",
      "provides: 1\n",
      "high-level: 1\n",
      "apis: 1\n",
      "in: 1\n",
      "java,: 1\n",
      "scala,: 1\n",
      "python: 1\n",
      "r: 1\n",
      "built: 1\n",
      "on: 1\n",
      "the: 1\n",
      "hadoop: 1\n",
      "distributed: 1\n",
      "file: 1\n"
     ]
    },
    {
     "name": "stderr",
     "output_type": "stream",
     "text": [
      "\r",
      "                                                                                \r"
     ]
    }
   ],
   "source": [
    "# reduceByKey\n",
    "# 임의의 텍스트 데이터\n",
    "text_data = [\"Spark is a fast and general-purpose cluster-computing system\",\n",
    "             \"It provides high-level APIs in Java, Scala, Python and R\",\n",
    "             \"Spark is built on the Hadoop Distributed File System\"]\n",
    "\n",
    "# 데이터를 RDD로 변환\n",
    "textRDD = sc.parallelize(text_data)\n",
    "\n",
    "# 단어 빈도 계산\n",
    "word_frequency = (textRDD\n",
    "    .flatMap(lambda line: line.split())            # 각 줄을 단어로 분할\n",
    "    .map(lambda word: (word.lower(), 1))           # 각 단어를 소문자로 변환하고 (word, 1) 쌍을 생성\n",
    "    .reduceByKey(lambda a, b: a + b))              # 같은 단어의 값을 합산\n",
    "\n",
    "# 결과 출력\n",
    "for word, count in word_frequency.collect():\n",
    "    print(f\"{word}: {count}\")"
   ]
  },
  {
   "cell_type": "code",
   "execution_count": 7,
   "id": "76bf555b",
   "metadata": {},
   "outputs": [
    {
     "name": "stdout",
     "output_type": "stream",
     "text": [
      "spark: 2\n",
      "is: 2\n",
      "a: 1\n",
      "fast: 1\n",
      "and: 2\n",
      "general-purpose: 1\n",
      "cluster-computing: 1\n",
      "system: 2\n",
      "it: 1\n",
      "provides: 1\n",
      "high-level: 1\n",
      "apis: 1\n",
      "in: 1\n",
      "java,: 1\n",
      "scala,: 1\n",
      "python: 1\n",
      "r: 1\n",
      "built: 1\n",
      "on: 1\n",
      "the: 1\n",
      "hadoop: 1\n",
      "distributed: 1\n",
      "file: 1\n"
     ]
    }
   ],
   "source": [
    "# 임의의 텍스트 데이터\n",
    "text_data = [\"Spark is a fast and general-purpose cluster-computing system\",\n",
    "             \"It provides high-level APIs in Java, Scala, Python and R\",\n",
    "             \"Spark is built on the Hadoop Distributed File System\"]\n",
    "\n",
    "# 데이터를 RDD로 변환\n",
    "textRDD = sc.parallelize(text_data)\n",
    "\n",
    "# 단어 빈도 계산\n",
    "word_frequency = (textRDD\n",
    "    .flatMap(lambda line: line.split())              # 각 줄을 단어로 분할\n",
    "    .map(lambda word: (word.lower(), 1))             # 각 단어를 소문자로 변환하고 (word, 1) 쌍을 생성\n",
    "    .groupByKey()                                    # 같은 단어를 그룹화\n",
    "    .map(lambda wc: (wc[0], sum(wc[1]))))            # 그룹화된 단어의 값을 합산\n",
    "\n",
    "# 결과 출력\n",
    "for word, count in word_frequency.collect():\n",
    "    print(f\"{word}: {count}\")"
   ]
  },
  {
   "cell_type": "markdown",
   "id": "2e681fa3",
   "metadata": {},
   "source": [
    "# Partition은 어떻게 결정될까?\n",
    "\n",
    "### 데이터가 어느 노드 /파티션에 들어가는지는 어떻게 결정될까?\n",
    "\n",
    "### 파티션의 목적\n",
    "- 데이터를 최대한 균일하게 퍼트리고 쿼리가 같이 되는 데이터를 최대한 옆에 두어 검색 성능을 향상시키는 것\n",
    "- 파티션은 PairedRDD일 때만 의미가 있음, 일반 RDD는 처음부터 끝까지 scanning을 해야함(의미없음)\n",
    "- 해시로 파티셔닝했을 때 어떤 데이터를 찾고 싶다 했을 때 Key를 통해 바로 찾을 수 있음\n",
    "\n",
    "### Partition의 특징\n",
    "- RDD는 쪼개져서 여러 파티션에 저장됨\n",
    "- 하나의 파티션은 하나의 노드 (서버)에 저장됨\n",
    "- 하나의 노드는 여러개의 파티션을 가질 수 있음\n",
    "- 파티션의 크기와 배치는 자유롭게 설정 가능하며 성능에 큰 영향을 미침\n",
    "- Key-Value RDD를 사용할때만 의미가 있다.\n",
    "\n",
    "***스파크의 파티셔닝 == 일반 프로그래밍에서 자료구조를 선택하는 것**\n",
    "\n",
    "### Partition의 종류\n",
    "- Hash Partitioning\n",
    "- Range Partitioning"
   ]
  },
  {
   "cell_type": "code",
   "execution_count": null,
   "id": "651f1c54",
   "metadata": {},
   "outputs": [],
   "source": []
  }
 ],
 "metadata": {
  "kernelspec": {
   "display_name": "Python 3 (ipykernel)",
   "language": "python",
   "name": "python3"
  },
  "language_info": {
   "codemirror_mode": {
    "name": "ipython",
    "version": 3
   },
   "file_extension": ".py",
   "mimetype": "text/x-python",
   "name": "python",
   "nbconvert_exporter": "python",
   "pygments_lexer": "ipython3",
   "version": "3.10.8"
  }
 },
 "nbformat": 4,
 "nbformat_minor": 5
}
