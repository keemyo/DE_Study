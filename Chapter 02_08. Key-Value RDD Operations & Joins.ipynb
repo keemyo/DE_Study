{
 "cells": [
  {
   "cell_type": "markdown",
   "id": "2ee576f8",
   "metadata": {},
   "source": [
    "# Key-Value RDD, Transformations & Actions\n",
    "\n",
    "### 1. Transformations \n",
    "- groupByKey\n",
    "- reduceByKey\n",
    "- mapValues\n",
    "- keys\n",
    "- join(+ leftOuterJoin, rightOuterJoin)\n",
    "\n",
    "### 2. Actions\n",
    "- countByKey"
   ]
  },
  {
   "cell_type": "markdown",
   "id": "b7c45d38",
   "metadata": {},
   "source": [
    "##### 보충설명 ChatGPT\n",
    "1. Transformation:\n",
    "    - Transformation은 데이터셋을 기반으로 새로운 데이터셋을 생성하는 연산\n",
    "    - Transformation은 Lazy Evaluation(지연 평가)을 따릅니다. 즉, Transformation 연산이 호출되었다고 해서 바로 실행되지는 않습니다. 대신 Spark는 이후에 Action이 호출될 떄까지 연산을 미루고 실행 계획을 최적화합니다.\n",
    "    - Transformation의 예로는 'map()', 'filter()', 'groupByKey()' 등이 있습니다.\n",
    "    - Transformation은 일반적으로 RDD(Resilient Distributed Dataset)이나 DataFrame 형태의 불변성(Immutable) 데이터 구조에 적용됩니다.\n",
    "\n",
    "2. Action:\n",
    "    - Action은 실제로 계산을 수행하고 결과를 반환하는 연산입니다.\n",
    "    - Action 연산이 호출되면, Spark는 앞서 정의한 Transformation의 실행 계획을 수행하고 최종 결과를 생성합니다.\n",
    "    - 결과는 드라이버 프로그램에 반환되거나 외부 데이터 저장소에 저장될 수 있습니다.\n",
    "    - Action의 예로는 'count()', 'collect()', 'take()', 'reduce'가 있습니다."
   ]
  },
  {
   "cell_type": "code",
   "execution_count": 1,
   "id": "89374428",
   "metadata": {},
   "outputs": [
    {
     "name": "stdout",
     "output_type": "stream",
     "text": [
      "23/03/30 22:56:44 WARN Utils: Your hostname, Keemyoui-MacBookPro.local resolves to a loopback address: 127.0.0.1; using 192.168.35.79 instead (on interface en0)\n",
      "23/03/30 22:56:44 WARN Utils: Set SPARK_LOCAL_IP if you need to bind to another address\n"
     ]
    },
    {
     "name": "stderr",
     "output_type": "stream",
     "text": [
      "Setting default log level to \"WARN\".\n",
      "To adjust logging level use sc.setLogLevel(newLevel). For SparkR, use setLogLevel(newLevel).\n"
     ]
    },
    {
     "name": "stdout",
     "output_type": "stream",
     "text": [
      "23/03/30 22:56:45 WARN NativeCodeLoader: Unable to load native-hadoop library for your platform... using builtin-java classes where applicable\n",
      "23/03/30 22:56:45 WARN Utils: Service 'SparkUI' could not bind on port 4040. Attempting port 4041.\n"
     ]
    }
   ],
   "source": [
    "from operator import add\n",
    "from pyspark import SparkConf, SparkContext\n",
    "\n",
    "import warnings \n",
    "warnings.simplefilter(action='ignore')\n",
    "\n",
    "conf = SparkConf().setMaster('local').setAppName('category-review-average')\n",
    "sc = SparkContext(conf=conf)"
   ]
  },
  {
   "cell_type": "code",
   "execution_count": 39,
   "id": "fd5871fd",
   "metadata": {},
   "outputs": [
    {
     "data": {
      "text/plain": [
       "[2, 4]"
      ]
     },
     "execution_count": 39,
     "metadata": {},
     "output_type": "execute_result"
    },
    {
     "name": "stdout",
     "output_type": "stream",
     "text": [
      "23/03/31 10:59:08 WARN HeartbeatReceiver: Removing executor driver with no recent heartbeats: 3224462 ms exceeds timeout 120000 ms\n",
      "23/03/31 10:59:08 WARN SparkContext: Killing executors is not supported by current scheduler.\n"
     ]
    }
   ],
   "source": [
    "### 예시\n",
    "rdd = sc.parallelize([1,2,3,4,5]) # RDD 생성\n",
    "filtered_rdd = rdd.filter(lambda x: x % 2 == 0) # Transformation: 짝수만 필터링하는 연산\n",
    "result = filtered_rdd.collect() # Action 결과를 수집하여 드라이버 프로개름에 반환\n",
    "result"
   ]
  },
  {
   "cell_type": "markdown",
   "id": "a43905a2",
   "metadata": {},
   "source": [
    "# 1. Transformation"
   ]
  },
  {
   "cell_type": "markdown",
   "id": "856b5e9b",
   "metadata": {},
   "source": [
    "### 01. GroupByKey\n",
    "\n",
    "##### 01-1. 강의 예제\n",
    "- groupbBy: 주어지는 함수를 기준으로 Group\n",
    "- groupByKey: 주어지는 Key를 기준으로 Group"
   ]
  },
  {
   "cell_type": "code",
   "execution_count": 48,
   "id": "06c92663",
   "metadata": {},
   "outputs": [
    {
     "name": "stdout",
     "output_type": "stream",
     "text": [
      "result1:  [(0, [2, 8]), (1, [1, 1, 3, 5])]\n",
      "result2:  [('a', 2), ('b', 1)]\n"
     ]
    }
   ],
   "source": [
    "# 1. GrooupBy: 사용자가 지정하는 함수를 기준으로 그룹핑\n",
    "### 예시) 2로 나누었을 때 몫을 기준으로 그룹핑\n",
    "rdd = sc.parallelize([1,1,2,3,5,8])\n",
    "result = rdd.groupBy(lambda x: x % 2).collect()\n",
    "result1 = sorted([(x, sorted(y)) for (x,y) in result])\n",
    "print('result1: ',result1)\n",
    "\n",
    "# 2. groupByKey: 주어진 Key를 기준으로 그룹핑\n",
    "rdd = sc.parallelize([('a', 1), ('b', 1), ('a', 1)]) \n",
    "result2 = sorted(rdd.groupByKey().mapValues(len).collect())\n",
    "print('result2: ', result2)\n",
    "\n",
    "### 키-값 쌍 데이터를 포함하는 RDD를 생성합니다. => ('a',1), ('b',1), ('a',1)\n",
    "### rdd.groupByKey(): 키를 기준으로 데이터를 그룹화합니다.=> ('a', [1,1]), ('b', [1])\n",
    "### mapValues(len): 키별 원소 개수를 계산합니다.(RDD) => ('a', 2), ('b',1) \n",
    "### .collect(): RDD의 모든 원소를 드라이버 프로그램에 수집합니다.(리스트) => [('a',2), ('b',1)]"
   ]
  },
  {
   "cell_type": "code",
   "execution_count": 49,
   "id": "7ea1ad3c",
   "metadata": {
    "scrolled": true
   },
   "outputs": [
    {
     "name": "stdout",
     "output_type": "stream",
     "text": [
      "result:  [('a', [1, 1]), ('b', [1])]\n"
     ]
    }
   ],
   "source": [
    "# 3. mapValues(list)\n",
    "rdd = sc.parallelize([('a', 1), ('b', 1), ('a', 1)]) \n",
    "result = sorted(rdd.groupByKey().mapValues(list).collect())\n",
    "print('result: ', result)\n",
    "\n",
    "### rdd = sc.parallelize([('a', 1), ('b', 1), ('a', 1)]): \n",
    "##### 키-값 쌍 데이터를 포함하는 RDD를 생성합니다. => ('a', 1), ('b', 1), ('a', 1).\n",
    "\n",
    "### rdd.groupByKey()\n",
    "##### groupByKey() 키를 기준으로 데이터를 그룹화합니다.(RDD) => ('a', <iterable object>), ('b', <iterable object>).\n",
    "##### 여기서 <iterable object>는 각 키에 대한 값들을 포함하는 이터러블 객체입니다.\n",
    "\n",
    "### .mapValues(list)\n",
    "##### groupByKey()로 그룹화된 데이터에 대해, list 함수를 각 그룹의 값에 적용하여 이터러블 객체를 리스트로 변환합니다. \n",
    "##### 이 연산의 결과는 다음과 같은 데이터를 포함하는 RDD입니다: ('a', [1, 1]), ('b', [1])."
   ]
  },
  {
   "cell_type": "code",
   "execution_count": 5,
   "id": "181a9e3a",
   "metadata": {
    "scrolled": true
   },
   "outputs": [
    {
     "name": "stdout",
     "output_type": "stream",
     "text": [
      "C ['C', 'C++', 'C#']\n",
      "P ['Python']\n",
      "J ['Java']\n"
     ]
    }
   ],
   "source": [
    "# 4. 첫글자를 따서 그룹핑하기: groupBy \n",
    "grouped = sc.parallelize([\n",
    "    \"C\", \"C++\", \"Python\", \"Java\", \"C#\"\n",
    "]).groupBy(lambda x: x[0]).collect() # 각프로그램의 첫글자를 기준으로 그룹핑합니다. \n",
    "\n",
    "for k, v in grouped:\n",
    "    print(k, list(v))       \n",
    "    "
   ]
  },
  {
   "cell_type": "code",
   "execution_count": 56,
   "id": "72c447ee",
   "metadata": {},
   "outputs": [
    {
     "name": "stdout",
     "output_type": "stream",
     "text": [
      "3\n",
      "2\n",
      "MATH [7, 2, 8, 3]\n",
      "ENGLISH [7, 4, 9, 4]\n",
      "SCIENCE [7, 6, 9, 5]\n"
     ]
    }
   ],
   "source": [
    "# groupByKey예제\n",
    "\n",
    "#### 준비하기 ####\n",
    "x = sc.parallelize([\n",
    "    (\"MATH\", 7), (\"MATH\", 2), (\"ENGLISH\",7),\n",
    "    (\"SCIENCE\", 7), (\"ENGLISH\", 4), (\"ENGLISH\", 9),\n",
    "    (\"MATH\", 8), (\"MATH\", 3), (\"ENGLISH\", 4),\n",
    "    (\"SCIENCE\", 6), (\"SCIENCE\", 9), (\"SCIENCE\", 5)], 3) \n",
    "\n",
    "y = x.groupByKey() # 아무것도 실행되지 않음. RDD를 만들겠다로 끝나\n",
    "\n",
    "##### 문제풀기 (1) #####\n",
    "print(y.getNumPartitions()) # y값이 갖는 파티션이 몇개인지, 디폴트로 3\n",
    "# 3\n",
    "\n",
    "#### 문제풀기 (2) #####\n",
    "y = x.groupByKey(2) # 파티션이 몇개인지를 정해주게 된다.ㅠㅠ\n",
    "print(y.getNumPartitions())\n",
    "\n",
    " \n",
    "for t in y.collect():\n",
    "    print(t[0], list(t[1]))    "
   ]
  },
  {
   "cell_type": "markdown",
   "id": "0e4dff19",
   "metadata": {},
   "source": [
    "##### 01-2. ChatGPT 예제"
   ]
  },
  {
   "cell_type": "code",
   "execution_count": null,
   "id": "ba1a1ec3",
   "metadata": {},
   "outputs": [],
   "source": [
    "# 간단한 예제 1\n",
    "\n",
    "# 초기 데이터 생성\n",
    "data = [(\"A\", 1), (\"B\", 2), (\"A\", 3), (\"B\", 4), (\"A\", 5), (\"B\", 6)]\n",
    "\n",
    "# RDD로 변환\n",
    "rdd = sc.parallelize(data)\n",
    "\n",
    "# groupByKey() 함수를 사용하여 키를 기준으로 데이터 그룹화\n",
    "grouped_rdd = rdd.groupBykey()\n",
    "\n",
    "# 그룹화된 데이터를 출력하기 쉬운 형식으로 변환\n",
    "result = grouped_rdd.map(lambda x: (x[0], list(x1)))"
   ]
  },
  {
   "cell_type": "code",
   "execution_count": 68,
   "id": "d36298df",
   "metadata": {},
   "outputs": [
    {
     "name": "stdout",
     "output_type": "stream",
     "text": [
      "[('apple', 15, 5.0), ('banana', 16, 5.333333333333333), ('orange', 17, 5.666666666666667)]\n"
     ]
    }
   ],
   "source": [
    "# 복잡한 예제\n",
    "\n",
    "#sc = SparkContext(\"local\", \"GroupByKey Complex Example\")\n",
    "\n",
    "# 초기 데이터 생성\n",
    "data = [(\"apple\", 3), (\"banana\", 5), (\"orange\", 2),\n",
    "        (\"apple\", 4), (\"banana\", 7), (\"orange\", 6),\n",
    "        (\"apple\", 8), (\"banana\", 4), (\"orange\", 9)]\n",
    "\n",
    "# RDD로 변환\n",
    "rdd = sc.parallelize(data)\n",
    "\n",
    "# groupByKey() 함수를 사용하여 키를 기준으로 데이터 그룹화\n",
    "grouped_rdd = rdd.groupByKey()\n",
    "\n",
    "# 각 과일 그룹의 총 개수와 평균을 계산\n",
    "result = grouped_rdd.map(lambda x: (x[0], sum(x[1]), sum(x[1]) / len(x[1]))).collect()\n",
    "print(result)"
   ]
  },
  {
   "cell_type": "markdown",
   "id": "71eeacc1",
   "metadata": {},
   "source": [
    "# 02. reduceByKey\n",
    "- reduce: 주어지는 함수를 기준으로 요소들을 합침(action)\n",
    "- reduceByKey: Key를 기준으로 그룹을 만들고 합침(trans)\n",
    "    - 결과값으로 나온 RDD가 파티션을 유지함으로 트랜스포메이션\n",
    "    \n",
    "- 개념적으로는 groupByKey + Reduction, 그러나 훨씬 빠르다."
   ]
  },
  {
   "cell_type": "markdown",
   "id": "22c9b303",
   "metadata": {},
   "source": [
    "### 02-1. 강의 예제"
   ]
  },
  {
   "cell_type": "code",
   "execution_count": 73,
   "id": "fb3d3b30",
   "metadata": {},
   "outputs": [
    {
     "name": "stdout",
     "output_type": "stream",
     "text": [
      "reduce: 15\n",
      "reduceByKey: [('a', 2), ('b', 1)]\n"
     ]
    }
   ],
   "source": [
    "# 예제 1. reduce(add) RDD에 있는 것들을 합침\n",
    "# reduce는 action이었죠(reduceByKey는 transformation입니다.)\n",
    "result1 = sc.parallelize([1,2,3,4,5]).reduce(add) \n",
    "print('reduce:', result1)\n",
    "\n",
    "# 예제 2. reduceByKey, 키를 기준으로 함수를 수행한다.\n",
    "rdd = sc.parallelize([(\"a\", 1), (\"b\", 1), (\"a\", 1)])\n",
    "result2 = sorted(rdd.reduceByKey(add).collect()) \n",
    "print('reduceByKey:', result2)"
   ]
  },
  {
   "cell_type": "code",
   "execution_count": 9,
   "id": "917f5ef8",
   "metadata": {},
   "outputs": [
    {
     "data": {
      "text/plain": [
       "[('MATH', 20), ('ENGLISH', 24), ('SCIENCE', 27)]"
      ]
     },
     "execution_count": 9,
     "metadata": {},
     "output_type": "execute_result"
    }
   ],
   "source": [
    "# 예제 3. 키값들을 기준으로 벨류를 더한다.ㅠ\n",
    "x = sc.parallelize([\n",
    "    (\"MATH\", 7), (\"MATH\", 2), (\"ENGLISH\", 7), \n",
    "    (\"SCIENCE\", 7), (\"ENGLISH\", 4), (\"ENGLISH\", 9),\n",
    "    (\"MATH\", 8), (\"MATH\", 3), (\"ENGLISH\", 4),\n",
    "    (\"SCIENCE\", 6), (\"SCIENCE\", 9), (\"SCIENCE\", 5)], 3) \n",
    "\n",
    "x.reduceByKey(lambda a,b: a+b).collect()"
   ]
  },
  {
   "cell_type": "markdown",
   "id": "4183f225",
   "metadata": {},
   "source": [
    "### 02-2. Chat GPT 예제"
   ]
  },
  {
   "cell_type": "code",
   "execution_count": 74,
   "id": "064789ca",
   "metadata": {},
   "outputs": [
    {
     "name": "stdout",
     "output_type": "stream",
     "text": [
      "apple: 3\n",
      "banana: 2\n",
      "orange: 1\n"
     ]
    }
   ],
   "source": [
    "# 예제1. 단어 빈도수 계산\n",
    "data = ['apple', 'banana', 'apple', 'orange', 'banana', 'apple']\n",
    "rdd = sc.parallelize(data)\n",
    "\n",
    "# 단어를 (단어, 1) 형태의 키-값 쌍으로 변환\n",
    "pair_rdd = rdd.map(lambda x: (x,1)) \n",
    "\n",
    "# 동일한 단어를 기준으로 값을 합산하여 빈도수 계산 \n",
    "word_count = pair_rdd.reduceByKey(lambda a,b: a+b)\n",
    "\n",
    "# 결과 출력\n",
    "for word, count in word_count.collect():\n",
    "    print(f'{word}: {count}')"
   ]
  },
  {
   "cell_type": "code",
   "execution_count": 85,
   "id": "3ccb291f",
   "metadata": {},
   "outputs": [
    {
     "name": "stdout",
     "output_type": "stream",
     "text": [
      "Seattle: 52.5\n",
      "San FranCisco: 59.0\n",
      "New York: 27.5\n"
     ]
    }
   ],
   "source": [
    "# 예제2. 평균 온도 계산\n",
    "data = [\n",
    "    ('Seattle', 50),\n",
    "    ('San FranCisco', 60),\n",
    "    ('Seattle', 55),\n",
    "    ('New York', 30), \n",
    "    ('San FranCisco', 58),\n",
    "    ('New York', 25)\n",
    "]\n",
    "rdd = sc.parallelize(data)\n",
    "\n",
    "# 도시 이름을 키로, (온도, 1) 형태의 값으로 변환 => data의 개수가 줄어들지 않는다.\n",
    "pair_rdd = rdd.map(lambda x: (x[0], (x[1], 1)))\n",
    "\n",
    "# 도시별 온도 합계 및 개수 계산 => 키값(도시명)을 기준으로 온도 더하기, 개수 더하기\n",
    "sum_count_rdd = pair_rdd.reduceByKey(lambda a, b: (a[0] + b[0], a[1]+ b[1]))\n",
    "\n",
    "# 도시별 평균 온도 계산\n",
    "avg_temp = sum_count_rdd.mapValues(lambda x: x[0]/x[1])\n",
    "\n",
    "# 결과 출력\n",
    "for city, temp in avg_temp.collect():\n",
    "    print(f\"{city}: {temp:.1f}\")"
   ]
  },
  {
   "cell_type": "markdown",
   "id": "dd3f2b43",
   "metadata": {},
   "source": [
    "# 03. MapValues\n",
    "- 함수를 Value에게만 적용\n",
    "- 파티션과 키는 그대로 유지"
   ]
  },
  {
   "cell_type": "markdown",
   "id": "fc3b4a63",
   "metadata": {},
   "source": [
    "### 03-1 강의안"
   ]
  },
  {
   "cell_type": "code",
   "execution_count": 86,
   "id": "8c42c949",
   "metadata": {},
   "outputs": [
    {
     "name": "stdout",
     "output_type": "stream",
     "text": [
      "result1: [('a', 3), ('b', 1)]\n"
     ]
    }
   ],
   "source": [
    "# 예제 1번\n",
    "x = sc.parallelize([(\"a\", [\"apple\", \"banana\", \"lemon\"]), (\"b\", [\"grapes\"])]) \n",
    "def f(x): return len(x) #적용시킬 함수를 만들고\n",
    "result = x.mapValues(f).collect()\n",
    "print('result1:', result)"
   ]
  },
  {
   "cell_type": "code",
   "execution_count": 14,
   "id": "01fdfe2a",
   "metadata": {},
   "outputs": [
    {
     "data": {
      "text/plain": [
       "[('a', 3), ('b', 1)]"
      ]
     },
     "execution_count": 14,
     "metadata": {},
     "output_type": "execute_result"
    }
   ],
   "source": [
    "x = sc.parallelize([(\"a\", [\"apple\", \"banana\", \"lemon\"]), (\"b\", [\"grapes\"])])\n",
    "def f(x): return len(x)\n",
    "x.mapValues(f).collect()"
   ]
  },
  {
   "cell_type": "markdown",
   "id": "a411d0ae",
   "metadata": {},
   "source": [
    "### 03-2 ChatGPT"
   ]
  },
  {
   "cell_type": "code",
   "execution_count": null,
   "id": "eb793206",
   "metadata": {},
   "outputs": [],
   "source": [
    "# 에제 1번: 간단한거\n",
    "\n",
    "\n",
    "# 05. CountByKey\n",
    "- 각 키가 가진 요소들을 센다\n",
    "- 위에 MapValues를 "
   ]
  },
  {
   "cell_type": "code",
   "execution_count": 15,
   "id": "ea8537be",
   "metadata": {},
   "outputs": [
    {
     "data": {
      "text/plain": [
       "[('a', 2), ('b', 1)]"
      ]
     },
     "execution_count": 15,
     "metadata": {},
     "output_type": "execute_result"
    }
   ],
   "source": [
    "rdd = sc.parallelize([(\"a\", 1), (\"b\", 1), (\"a\", 1)])\n",
    "sorted(rdd.countByKey().items())"
   ]
  },
  {
   "cell_type": "markdown",
   "id": "44df3dba",
   "metadata": {},
   "source": [
    "# 06. Keys()\n",
    "- Transformation\n",
    "- 모든 Key를 가진 RDD를 생성"
   ]
  },
  {
   "cell_type": "code",
   "execution_count": 17,
   "id": "b0a1086d",
   "metadata": {},
   "outputs": [
    {
     "data": {
      "text/plain": [
       "[1, 3]"
      ]
     },
     "execution_count": 17,
     "metadata": {},
     "output_type": "execute_result"
    }
   ],
   "source": [
    "m = sc.parallelize([(1,2), (3,4)]).keys()\n",
    "m.collect()"
   ]
  },
  {
   "cell_type": "code",
   "execution_count": 19,
   "id": "6a4a34a1",
   "metadata": {},
   "outputs": [
    {
     "data": {
      "text/plain": [
       "4"
      ]
     },
     "execution_count": 19,
     "metadata": {},
     "output_type": "execute_result"
    }
   ],
   "source": [
    "x = sc.parallelize([\n",
    "    (\"MATH\", 7), (\"MATH\", 2), (\"ENGLISH\", 7), \n",
    "    (\"SCIENC\", 7), (\"ENGLISH\", 4), (\"ENGLISH\", 9),\n",
    "    (\"MATH\", 8), (\"MATH\", 3), (\"ENGLISH\", 4), \n",
    "    (\"SCIENCE\", 6), (\"SCIENCE\", 9), (\"SCIENCE\", 5)], 3) \n",
    "\n",
    "x.keys().distinct().count()"
   ]
  },
  {
   "cell_type": "markdown",
   "id": "573a87e9",
   "metadata": {},
   "source": [
    "# 07. Joins()\n",
    "- Transformation\n",
    "- 여러개의 RDD를 합치는데 사용\n",
    "- 대표적으로 두 가지의 Join 방식이 존재 \n",
    "    - inner Join(join)\n",
    "    - Outer Join(left outer, right outer)\n"
   ]
  },
  {
   "cell_type": "markdown",
   "id": "6c282982",
   "metadata": {},
   "source": [
    "### 001. Inner Join vs Outer Join"
   ]
  },
  {
   "cell_type": "code",
   "execution_count": 25,
   "id": "a613e550",
   "metadata": {},
   "outputs": [
    {
     "data": {
      "text/plain": [
       "[('foo', (1, 4)), ('bar', (2, 5)), ('bar', (2, 6))]"
      ]
     },
     "execution_count": 25,
     "metadata": {},
     "output_type": "execute_result"
    }
   ],
   "source": [
    "rdd1 = sc.parallelize([('foo', 1), ('bar', 2), ('baz', 3)])\n",
    "rdd2 = sc.parallelize([('foo', 4), ('bar', 5), ('bar', 6), ('zoo', 1)])\n",
    "\n",
    "rdd1.join(rdd2).collect()"
   ]
  },
  {
   "cell_type": "code",
   "execution_count": 26,
   "id": "fb142bf0",
   "metadata": {},
   "outputs": [
    {
     "data": {
      "text/plain": [
       "[('foo', (1, 4)), ('bar', (2, 5)), ('bar', (2, 6)), ('baz', (3, None))]"
      ]
     },
     "execution_count": 26,
     "metadata": {},
     "output_type": "execute_result"
    }
   ],
   "source": [
    "rdd1.leftOuterJoin(rdd2).collect()"
   ]
  },
  {
   "cell_type": "code",
   "execution_count": 27,
   "id": "05464f59",
   "metadata": {},
   "outputs": [
    {
     "data": {
      "text/plain": [
       "[('foo', (1, 4)), ('bar', (2, 5)), ('bar', (2, 6)), ('zoo', (None, 1))]"
      ]
     },
     "execution_count": 27,
     "metadata": {},
     "output_type": "execute_result"
    }
   ],
   "source": [
    "rdd1.rightOuterJoin(rdd2).collect()"
   ]
  },
  {
   "cell_type": "markdown",
   "id": "35935ea5",
   "metadata": {},
   "source": [
    "# Summary\n",
    "- Key-Value (Pairs) RDD Operations\n",
    "    - groupBykey\n",
    "    - rdeuceByKey\n",
    "    - mapValues\n",
    "    - keys\n",
    "    - countByValues\n",
    "- Joins \n",
    "    - Inner join\n",
    "    - Outer Join \n",
    "- 배운것 외에 여러 Operation이 존재"
   ]
  },
  {
   "cell_type": "code",
   "execution_count": 32,
   "id": "48643ac3",
   "metadata": {},
   "outputs": [
    {
     "data": {
      "text/plain": [
       "[4, 5, 6]"
      ]
     },
     "execution_count": 32,
     "metadata": {},
     "output_type": "execute_result"
    }
   ],
   "source": [
    "list1 = [1,2,3,4,5,6]\n",
    "list2 = [4,5,6,7,8,9]\n",
    "\n",
    "def find_common_elements(c1, c2):\n",
    "    result = list(set(c1).intersection(c2))\n",
    "    return result\n",
    "\n",
    "find_common_elements(list1, list2)\n",
    "    "
   ]
  },
  {
   "cell_type": "code",
   "execution_count": 34,
   "id": "015d1f76",
   "metadata": {},
   "outputs": [
    {
     "data": {
      "text/plain": [
       "{4, 5, 6}"
      ]
     },
     "execution_count": 34,
     "metadata": {},
     "output_type": "execute_result"
    }
   ],
   "source": [
    "def find_common_elements(list1, list2):\n",
    "    return set(list1) & set(list2)\n",
    "\n",
    "list1 = [1, 2, 3, 4, 5, 6]\n",
    "list2 = [4, 5, 6, 7, 8, 9]\n",
    "result = find_common_elements(list1, list2)\n",
    "result"
   ]
  },
  {
   "cell_type": "code",
   "execution_count": 38,
   "id": "aff7ffbc",
   "metadata": {},
   "outputs": [
    {
     "data": {
      "text/plain": [
       "{4, 5, 6}"
      ]
     },
     "execution_count": 38,
     "metadata": {},
     "output_type": "execute_result"
    }
   ],
   "source": [
    "set(list1)&set(list2)"
   ]
  },
  {
   "cell_type": "code",
   "execution_count": null,
   "id": "f3230ca1",
   "metadata": {},
   "outputs": [],
   "source": []
  }
 ],
 "metadata": {
  "kernelspec": {
   "display_name": "Python 3 (ipykernel)",
   "language": "python",
   "name": "python3"
  },
  "language_info": {
   "codemirror_mode": {
    "name": "ipython",
    "version": 3
   },
   "file_extension": ".py",
   "mimetype": "text/x-python",
   "name": "python",
   "nbconvert_exporter": "python",
   "pygments_lexer": "ipython3",
   "version": "3.10.8"
  }
 },
 "nbformat": 4,
 "nbformat_minor": 5
}
